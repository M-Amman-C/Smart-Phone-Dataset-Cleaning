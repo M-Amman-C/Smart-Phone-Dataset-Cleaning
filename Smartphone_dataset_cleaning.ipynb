{
  "cells": [
    {
      "cell_type": "markdown",
      "metadata": {
        "id": "hjxICRJUqnSD"
      },
      "source": [
        "# Smartphone Data Cleaning"
      ]
    },
    {
      "cell_type": "markdown",
      "metadata": {},
      "source": [
        "**Improved based on solution and guide provided in internship**"
      ]
    },
    {
      "cell_type": "code",
      "execution_count": 30,
      "metadata": {
        "id": "AOMNdLVuqnSI"
      },
      "outputs": [],
      "source": [
        "#pip install pandas\n",
        "#pip install sklearn\n",
        "\n",
        "import numpy as np\n",
        "import pandas as pd\n",
        "import matplotlib.pyplot as plt\n",
        "import keras"
      ]
    },
    {
      "cell_type": "markdown",
      "metadata": {},
      "source": []
    },
    {
      "cell_type": "markdown",
      "metadata": {
        "id": "QlD8zQ3jqnSL"
      },
      "source": [
        "**Importing dataset**"
      ]
    },
    {
      "cell_type": "code",
      "execution_count": 31,
      "metadata": {
        "colab": {
          "base_uri": "https://localhost:8080/"
        },
        "id": "Km6bJAyxqnSM",
        "outputId": "779bc45f-30c8-4c46-ef2b-5a0b1faa86b9"
      },
      "outputs": [
        {
          "data": {
            "text/html": [
              "<div>\n",
              "<style scoped>\n",
              "    .dataframe tbody tr th:only-of-type {\n",
              "        vertical-align: middle;\n",
              "    }\n",
              "\n",
              "    .dataframe tbody tr th {\n",
              "        vertical-align: top;\n",
              "    }\n",
              "\n",
              "    .dataframe thead th {\n",
              "        text-align: right;\n",
              "    }\n",
              "</style>\n",
              "<table border=\"1\" class=\"dataframe\">\n",
              "  <thead>\n",
              "    <tr style=\"text-align: right;\">\n",
              "      <th></th>\n",
              "      <th>model</th>\n",
              "      <th>price</th>\n",
              "      <th>rating</th>\n",
              "      <th>sim</th>\n",
              "      <th>processor</th>\n",
              "      <th>ram</th>\n",
              "      <th>battery</th>\n",
              "      <th>display</th>\n",
              "      <th>camera</th>\n",
              "      <th>card</th>\n",
              "      <th>os</th>\n",
              "    </tr>\n",
              "  </thead>\n",
              "  <tbody>\n",
              "    <tr>\n",
              "      <th>0</th>\n",
              "      <td>OnePlus 11 5G</td>\n",
              "      <td>?54,999</td>\n",
              "      <td>89.0</td>\n",
              "      <td>Dual Sim, 3G, 4G, 5G, VoLTE, Wi-Fi, NFC</td>\n",
              "      <td>Snapdragon 8 Gen2, Octa Core, 3.2?GHz Processor</td>\n",
              "      <td>12?GB RAM, 256?GB inbuilt</td>\n",
              "      <td>5000?mAh Battery with 100W Fast Charging</td>\n",
              "      <td>6.7 inches, 1440?x?3216?px, 120 Hz Display wit...</td>\n",
              "      <td>50?MP + 48?MP + 32?MP Triple Rear &amp; 16?MP Fron...</td>\n",
              "      <td>Memory Card Not Supported</td>\n",
              "      <td>Android v13</td>\n",
              "    </tr>\n",
              "    <tr>\n",
              "      <th>1</th>\n",
              "      <td>OnePlus Nord CE 2 Lite 5G</td>\n",
              "      <td>?19,989</td>\n",
              "      <td>81.0</td>\n",
              "      <td>Dual Sim, 3G, 4G, 5G, VoLTE, Wi-Fi</td>\n",
              "      <td>Snapdragon 695, Octa Core, 2.2?GHz Processor</td>\n",
              "      <td>6?GB RAM, 128?GB inbuilt</td>\n",
              "      <td>5000?mAh Battery with 33W Fast Charging</td>\n",
              "      <td>6.59 inches, 1080?x?2412?px, 120 Hz Display wi...</td>\n",
              "      <td>64?MP + 2?MP + 2?MP Triple Rear &amp; 16?MP Front ...</td>\n",
              "      <td>Memory Card (Hybrid), upto 1?TB</td>\n",
              "      <td>Android v12</td>\n",
              "    </tr>\n",
              "    <tr>\n",
              "      <th>2</th>\n",
              "      <td>Samsung Galaxy A14 5G</td>\n",
              "      <td>?16,499</td>\n",
              "      <td>75.0</td>\n",
              "      <td>Dual Sim, 3G, 4G, 5G, VoLTE, Wi-Fi</td>\n",
              "      <td>Exynos 1330, Octa Core, 2.4?GHz Processor</td>\n",
              "      <td>4?GB RAM, 64?GB inbuilt</td>\n",
              "      <td>5000?mAh Battery with 15W Fast Charging</td>\n",
              "      <td>6.6 inches, 1080?x?2408?px, 90 Hz Display with...</td>\n",
              "      <td>50?MP + 2?MP + 2?MP Triple Rear &amp; 13?MP Front ...</td>\n",
              "      <td>Memory Card Supported, upto 1?TB</td>\n",
              "      <td>Android v13</td>\n",
              "    </tr>\n",
              "    <tr>\n",
              "      <th>3</th>\n",
              "      <td>Motorola Moto G62 5G</td>\n",
              "      <td>?14,999</td>\n",
              "      <td>81.0</td>\n",
              "      <td>Dual Sim, 3G, 4G, 5G, VoLTE, Wi-Fi</td>\n",
              "      <td>Snapdragon  695, Octa Core, 2.2?GHz Processor</td>\n",
              "      <td>6?GB RAM, 128?GB inbuilt</td>\n",
              "      <td>5000?mAh Battery with Fast Charging</td>\n",
              "      <td>6.55 inches, 1080?x?2400?px, 120 Hz Display wi...</td>\n",
              "      <td>50?MP + 8?MP + 2?MP Triple Rear &amp; 16?MP Front ...</td>\n",
              "      <td>Memory Card (Hybrid), upto 1?TB</td>\n",
              "      <td>Android v12</td>\n",
              "    </tr>\n",
              "    <tr>\n",
              "      <th>4</th>\n",
              "      <td>Realme 10 Pro Plus</td>\n",
              "      <td>?24,999</td>\n",
              "      <td>82.0</td>\n",
              "      <td>Dual Sim, 3G, 4G, 5G, VoLTE, Wi-Fi</td>\n",
              "      <td>Dimensity 1080, Octa Core, 2.6?GHz Processor</td>\n",
              "      <td>6?GB RAM, 128?GB inbuilt</td>\n",
              "      <td>5000?mAh Battery with 67W Fast Charging</td>\n",
              "      <td>6.7 inches, 1080?x?2412?px, 120 Hz Display wit...</td>\n",
              "      <td>108?MP + 8?MP + 2?MP Triple Rear &amp; 16?MP Front...</td>\n",
              "      <td>Memory Card Not Supported</td>\n",
              "      <td>Android v13</td>\n",
              "    </tr>\n",
              "    <tr>\n",
              "      <th>...</th>\n",
              "      <td>...</td>\n",
              "      <td>...</td>\n",
              "      <td>...</td>\n",
              "      <td>...</td>\n",
              "      <td>...</td>\n",
              "      <td>...</td>\n",
              "      <td>...</td>\n",
              "      <td>...</td>\n",
              "      <td>...</td>\n",
              "      <td>...</td>\n",
              "      <td>...</td>\n",
              "    </tr>\n",
              "    <tr>\n",
              "      <th>1015</th>\n",
              "      <td>Motorola Moto Edge S30 Pro</td>\n",
              "      <td>?34,990</td>\n",
              "      <td>83.0</td>\n",
              "      <td>Dual Sim, 3G, 4G, 5G, VoLTE, Wi-Fi</td>\n",
              "      <td>Snapdragon 8 Gen1, Octa Core, 3?GHz Processor</td>\n",
              "      <td>8?GB RAM, 128?GB inbuilt</td>\n",
              "      <td>5000?mAh Battery with 68.2W Fast Charging</td>\n",
              "      <td>6.67 inches, 1080?x?2460?px, 120 Hz Display wi...</td>\n",
              "      <td>64?MP + 8?MP + 2?MP Triple Rear &amp; 16?MP Front ...</td>\n",
              "      <td>Android v12</td>\n",
              "      <td>No FM Radio</td>\n",
              "    </tr>\n",
              "    <tr>\n",
              "      <th>1016</th>\n",
              "      <td>Honor X8 5G</td>\n",
              "      <td>?14,990</td>\n",
              "      <td>75.0</td>\n",
              "      <td>Dual Sim, 3G, 4G, 5G, VoLTE, Wi-Fi</td>\n",
              "      <td>Snapdragon  480+, Octa Core, 2.2?GHz Processor</td>\n",
              "      <td>6?GB RAM, 128?GB inbuilt</td>\n",
              "      <td>5000?mAh Battery with 22.5W Fast Charging</td>\n",
              "      <td>6.5 inches, 720?x?1600?px Display with Water D...</td>\n",
              "      <td>48?MP + 2?MP + Depth Sensor Triple Rear &amp; 8?MP...</td>\n",
              "      <td>Memory Card Supported, upto 1?TB</td>\n",
              "      <td>Android v11</td>\n",
              "    </tr>\n",
              "    <tr>\n",
              "      <th>1017</th>\n",
              "      <td>POCO X4 GT 5G (8GB RAM + 256GB)</td>\n",
              "      <td>?28,990</td>\n",
              "      <td>85.0</td>\n",
              "      <td>Dual Sim, 3G, 4G, 5G, VoLTE, Wi-Fi, NFC, IR Bl...</td>\n",
              "      <td>Dimensity 8100, Octa Core, 2.85?GHz Processor</td>\n",
              "      <td>8?GB RAM, 256?GB inbuilt</td>\n",
              "      <td>5080?mAh Battery with 67W Fast Charging</td>\n",
              "      <td>6.6 inches, 1080?x?2460?px, 144 Hz Display wit...</td>\n",
              "      <td>64?MP + 8?MP + 2?MP Triple Rear &amp; 16?MP Front ...</td>\n",
              "      <td>Memory Card Not Supported</td>\n",
              "      <td>Android v12</td>\n",
              "    </tr>\n",
              "    <tr>\n",
              "      <th>1018</th>\n",
              "      <td>Motorola Moto G91 5G</td>\n",
              "      <td>?19,990</td>\n",
              "      <td>80.0</td>\n",
              "      <td>Dual Sim, 3G, 4G, 5G, VoLTE, Wi-Fi, NFC</td>\n",
              "      <td>Snapdragon 695, Octa Core, 2.2?GHz Processor</td>\n",
              "      <td>6?GB RAM, 128?GB inbuilt</td>\n",
              "      <td>5000?mAh Battery with Fast Charging</td>\n",
              "      <td>6.8 inches, 1080?x?2400?px Display with Punch ...</td>\n",
              "      <td>108?MP + 8?MP + 2?MP Triple Rear &amp; 32?MP Front...</td>\n",
              "      <td>Memory Card Supported, upto 1?TB</td>\n",
              "      <td>Android v12</td>\n",
              "    </tr>\n",
              "    <tr>\n",
              "      <th>1019</th>\n",
              "      <td>Samsung Galaxy M52s 5G</td>\n",
              "      <td>?24,990</td>\n",
              "      <td>74.0</td>\n",
              "      <td>Dual Sim, 3G, 4G, 5G, VoLTE, Wi-Fi</td>\n",
              "      <td>Octa Core Processor</td>\n",
              "      <td>8?GB RAM, 128?GB inbuilt</td>\n",
              "      <td>5000?mAh Battery with Fast Charging</td>\n",
              "      <td>6.5 inches, 1080?x?2400?px Display with Water ...</td>\n",
              "      <td>64?MP + 8?MP + 5?MP Triple Rear &amp; 32?MP Front ...</td>\n",
              "      <td>Memory Card Supported, upto 1?TB</td>\n",
              "      <td>Android v12</td>\n",
              "    </tr>\n",
              "  </tbody>\n",
              "</table>\n",
              "<p>1020 rows × 11 columns</p>\n",
              "</div>"
            ],
            "text/plain": [
              "                                model    price  rating  \\\n",
              "0                       OnePlus 11 5G  ?54,999    89.0   \n",
              "1           OnePlus Nord CE 2 Lite 5G  ?19,989    81.0   \n",
              "2               Samsung Galaxy A14 5G  ?16,499    75.0   \n",
              "3                Motorola Moto G62 5G  ?14,999    81.0   \n",
              "4                  Realme 10 Pro Plus  ?24,999    82.0   \n",
              "...                               ...      ...     ...   \n",
              "1015       Motorola Moto Edge S30 Pro  ?34,990    83.0   \n",
              "1016                      Honor X8 5G  ?14,990    75.0   \n",
              "1017  POCO X4 GT 5G (8GB RAM + 256GB)  ?28,990    85.0   \n",
              "1018             Motorola Moto G91 5G  ?19,990    80.0   \n",
              "1019           Samsung Galaxy M52s 5G  ?24,990    74.0   \n",
              "\n",
              "                                                    sim  \\\n",
              "0               Dual Sim, 3G, 4G, 5G, VoLTE, Wi-Fi, NFC   \n",
              "1                    Dual Sim, 3G, 4G, 5G, VoLTE, Wi-Fi   \n",
              "2                    Dual Sim, 3G, 4G, 5G, VoLTE, Wi-Fi   \n",
              "3                    Dual Sim, 3G, 4G, 5G, VoLTE, Wi-Fi   \n",
              "4                    Dual Sim, 3G, 4G, 5G, VoLTE, Wi-Fi   \n",
              "...                                                 ...   \n",
              "1015                 Dual Sim, 3G, 4G, 5G, VoLTE, Wi-Fi   \n",
              "1016                 Dual Sim, 3G, 4G, 5G, VoLTE, Wi-Fi   \n",
              "1017  Dual Sim, 3G, 4G, 5G, VoLTE, Wi-Fi, NFC, IR Bl...   \n",
              "1018            Dual Sim, 3G, 4G, 5G, VoLTE, Wi-Fi, NFC   \n",
              "1019                 Dual Sim, 3G, 4G, 5G, VoLTE, Wi-Fi   \n",
              "\n",
              "                                            processor  \\\n",
              "0     Snapdragon 8 Gen2, Octa Core, 3.2?GHz Processor   \n",
              "1        Snapdragon 695, Octa Core, 2.2?GHz Processor   \n",
              "2           Exynos 1330, Octa Core, 2.4?GHz Processor   \n",
              "3       Snapdragon  695, Octa Core, 2.2?GHz Processor   \n",
              "4        Dimensity 1080, Octa Core, 2.6?GHz Processor   \n",
              "...                                               ...   \n",
              "1015    Snapdragon 8 Gen1, Octa Core, 3?GHz Processor   \n",
              "1016   Snapdragon  480+, Octa Core, 2.2?GHz Processor   \n",
              "1017    Dimensity 8100, Octa Core, 2.85?GHz Processor   \n",
              "1018     Snapdragon 695, Octa Core, 2.2?GHz Processor   \n",
              "1019                              Octa Core Processor   \n",
              "\n",
              "                            ram                                    battery  \\\n",
              "0     12?GB RAM, 256?GB inbuilt   5000?mAh Battery with 100W Fast Charging   \n",
              "1      6?GB RAM, 128?GB inbuilt    5000?mAh Battery with 33W Fast Charging   \n",
              "2       4?GB RAM, 64?GB inbuilt    5000?mAh Battery with 15W Fast Charging   \n",
              "3      6?GB RAM, 128?GB inbuilt        5000?mAh Battery with Fast Charging   \n",
              "4      6?GB RAM, 128?GB inbuilt    5000?mAh Battery with 67W Fast Charging   \n",
              "...                         ...                                        ...   \n",
              "1015   8?GB RAM, 128?GB inbuilt  5000?mAh Battery with 68.2W Fast Charging   \n",
              "1016   6?GB RAM, 128?GB inbuilt  5000?mAh Battery with 22.5W Fast Charging   \n",
              "1017   8?GB RAM, 256?GB inbuilt    5080?mAh Battery with 67W Fast Charging   \n",
              "1018   6?GB RAM, 128?GB inbuilt        5000?mAh Battery with Fast Charging   \n",
              "1019   8?GB RAM, 128?GB inbuilt        5000?mAh Battery with Fast Charging   \n",
              "\n",
              "                                                display  \\\n",
              "0     6.7 inches, 1440?x?3216?px, 120 Hz Display wit...   \n",
              "1     6.59 inches, 1080?x?2412?px, 120 Hz Display wi...   \n",
              "2     6.6 inches, 1080?x?2408?px, 90 Hz Display with...   \n",
              "3     6.55 inches, 1080?x?2400?px, 120 Hz Display wi...   \n",
              "4     6.7 inches, 1080?x?2412?px, 120 Hz Display wit...   \n",
              "...                                                 ...   \n",
              "1015  6.67 inches, 1080?x?2460?px, 120 Hz Display wi...   \n",
              "1016  6.5 inches, 720?x?1600?px Display with Water D...   \n",
              "1017  6.6 inches, 1080?x?2460?px, 144 Hz Display wit...   \n",
              "1018  6.8 inches, 1080?x?2400?px Display with Punch ...   \n",
              "1019  6.5 inches, 1080?x?2400?px Display with Water ...   \n",
              "\n",
              "                                                 camera  \\\n",
              "0     50?MP + 48?MP + 32?MP Triple Rear & 16?MP Fron...   \n",
              "1     64?MP + 2?MP + 2?MP Triple Rear & 16?MP Front ...   \n",
              "2     50?MP + 2?MP + 2?MP Triple Rear & 13?MP Front ...   \n",
              "3     50?MP + 8?MP + 2?MP Triple Rear & 16?MP Front ...   \n",
              "4     108?MP + 8?MP + 2?MP Triple Rear & 16?MP Front...   \n",
              "...                                                 ...   \n",
              "1015  64?MP + 8?MP + 2?MP Triple Rear & 16?MP Front ...   \n",
              "1016  48?MP + 2?MP + Depth Sensor Triple Rear & 8?MP...   \n",
              "1017  64?MP + 8?MP + 2?MP Triple Rear & 16?MP Front ...   \n",
              "1018  108?MP + 8?MP + 2?MP Triple Rear & 32?MP Front...   \n",
              "1019  64?MP + 8?MP + 5?MP Triple Rear & 32?MP Front ...   \n",
              "\n",
              "                                  card           os  \n",
              "0            Memory Card Not Supported  Android v13  \n",
              "1      Memory Card (Hybrid), upto 1?TB  Android v12  \n",
              "2     Memory Card Supported, upto 1?TB  Android v13  \n",
              "3      Memory Card (Hybrid), upto 1?TB  Android v12  \n",
              "4            Memory Card Not Supported  Android v13  \n",
              "...                                ...          ...  \n",
              "1015                       Android v12  No FM Radio  \n",
              "1016  Memory Card Supported, upto 1?TB  Android v11  \n",
              "1017         Memory Card Not Supported  Android v12  \n",
              "1018  Memory Card Supported, upto 1?TB  Android v12  \n",
              "1019  Memory Card Supported, upto 1?TB  Android v12  \n",
              "\n",
              "[1020 rows x 11 columns]"
            ]
          },
          "execution_count": 31,
          "metadata": {},
          "output_type": "execute_result"
        }
      ],
      "source": [
        "df = pd.read_csv(\"phone.csv\")\n",
        "df"
      ]
    },
    {
      "cell_type": "code",
      "execution_count": 32,
      "metadata": {},
      "outputs": [
        {
          "data": {
            "text/plain": [
              "['model',\n",
              " 'price',\n",
              " 'rating',\n",
              " 'sim',\n",
              " 'processor',\n",
              " 'ram',\n",
              " 'battery',\n",
              " 'display',\n",
              " 'camera',\n",
              " 'card',\n",
              " 'os']"
            ]
          },
          "execution_count": 32,
          "metadata": {},
          "output_type": "execute_result"
        }
      ],
      "source": [
        "headers = list(df.columns.values) #get a list of all labels\n",
        "headers"
      ]
    },
    {
      "cell_type": "markdown",
      "metadata": {},
      "source": [
        "**Check the data**"
      ]
    },
    {
      "cell_type": "code",
      "execution_count": 33,
      "metadata": {},
      "outputs": [
        {
          "name": "stdout",
          "output_type": "stream",
          "text": [
            "<class 'pandas.core.frame.DataFrame'>\n",
            "RangeIndex: 1020 entries, 0 to 1019\n",
            "Data columns (total 11 columns):\n",
            " #   Column     Non-Null Count  Dtype  \n",
            "---  ------     --------------  -----  \n",
            " 0   model      1019 non-null   object \n",
            " 1   price      1020 non-null   object \n",
            " 2   rating     879 non-null    float64\n",
            " 3   sim        1020 non-null   object \n",
            " 4   processor  1020 non-null   object \n",
            " 5   ram        1020 non-null   object \n",
            " 6   battery    1020 non-null   object \n",
            " 7   display    1020 non-null   object \n",
            " 8   camera     1019 non-null   object \n",
            " 9   card       1013 non-null   object \n",
            " 10  os         1003 non-null   object \n",
            "dtypes: float64(1), object(10)\n",
            "memory usage: 87.8+ KB\n"
          ]
        }
      ],
      "source": [
        "df.info()"
      ]
    },
    {
      "cell_type": "code",
      "execution_count": 34,
      "metadata": {},
      "outputs": [
        {
          "data": {
            "text/html": [
              "<div>\n",
              "<style scoped>\n",
              "    .dataframe tbody tr th:only-of-type {\n",
              "        vertical-align: middle;\n",
              "    }\n",
              "\n",
              "    .dataframe tbody tr th {\n",
              "        vertical-align: top;\n",
              "    }\n",
              "\n",
              "    .dataframe thead th {\n",
              "        text-align: right;\n",
              "    }\n",
              "</style>\n",
              "<table border=\"1\" class=\"dataframe\">\n",
              "  <thead>\n",
              "    <tr style=\"text-align: right;\">\n",
              "      <th></th>\n",
              "      <th>model</th>\n",
              "      <th>price</th>\n",
              "      <th>rating</th>\n",
              "      <th>sim</th>\n",
              "      <th>processor</th>\n",
              "      <th>ram</th>\n",
              "      <th>battery</th>\n",
              "      <th>display</th>\n",
              "      <th>camera</th>\n",
              "      <th>card</th>\n",
              "      <th>os</th>\n",
              "    </tr>\n",
              "  </thead>\n",
              "  <tbody>\n",
              "    <tr>\n",
              "      <th>count</th>\n",
              "      <td>1019</td>\n",
              "      <td>1020</td>\n",
              "      <td>879.000000</td>\n",
              "      <td>1020</td>\n",
              "      <td>1020</td>\n",
              "      <td>1020</td>\n",
              "      <td>1020</td>\n",
              "      <td>1020</td>\n",
              "      <td>1019</td>\n",
              "      <td>1013</td>\n",
              "      <td>1003</td>\n",
              "    </tr>\n",
              "    <tr>\n",
              "      <th>unique</th>\n",
              "      <td>1019</td>\n",
              "      <td>412</td>\n",
              "      <td>NaN</td>\n",
              "      <td>28</td>\n",
              "      <td>298</td>\n",
              "      <td>58</td>\n",
              "      <td>256</td>\n",
              "      <td>369</td>\n",
              "      <td>285</td>\n",
              "      <td>63</td>\n",
              "      <td>48</td>\n",
              "    </tr>\n",
              "    <tr>\n",
              "      <th>top</th>\n",
              "      <td>OnePlus 11 5G</td>\n",
              "      <td>?14,999</td>\n",
              "      <td>NaN</td>\n",
              "      <td>Dual Sim, 3G, 4G, VoLTE, Wi-Fi</td>\n",
              "      <td>Dimensity 700 5G, Octa Core, 2.2?GHz Processor</td>\n",
              "      <td>8?GB RAM, 128?GB inbuilt</td>\n",
              "      <td>5000?mAh Battery with 33W Fast Charging</td>\n",
              "      <td>6.67 inches, 1080?x?2400?px, 120 Hz Display wi...</td>\n",
              "      <td>50?MP + 8?MP + 2?MP Triple Rear &amp; 16?MP Front ...</td>\n",
              "      <td>Memory Card Supported, upto 1?TB</td>\n",
              "      <td>Android v12</td>\n",
              "    </tr>\n",
              "    <tr>\n",
              "      <th>freq</th>\n",
              "      <td>1</td>\n",
              "      <td>21</td>\n",
              "      <td>NaN</td>\n",
              "      <td>324</td>\n",
              "      <td>29</td>\n",
              "      <td>267</td>\n",
              "      <td>103</td>\n",
              "      <td>54</td>\n",
              "      <td>40</td>\n",
              "      <td>171</td>\n",
              "      <td>287</td>\n",
              "    </tr>\n",
              "    <tr>\n",
              "      <th>mean</th>\n",
              "      <td>NaN</td>\n",
              "      <td>NaN</td>\n",
              "      <td>78.258248</td>\n",
              "      <td>NaN</td>\n",
              "      <td>NaN</td>\n",
              "      <td>NaN</td>\n",
              "      <td>NaN</td>\n",
              "      <td>NaN</td>\n",
              "      <td>NaN</td>\n",
              "      <td>NaN</td>\n",
              "      <td>NaN</td>\n",
              "    </tr>\n",
              "    <tr>\n",
              "      <th>std</th>\n",
              "      <td>NaN</td>\n",
              "      <td>NaN</td>\n",
              "      <td>7.402854</td>\n",
              "      <td>NaN</td>\n",
              "      <td>NaN</td>\n",
              "      <td>NaN</td>\n",
              "      <td>NaN</td>\n",
              "      <td>NaN</td>\n",
              "      <td>NaN</td>\n",
              "      <td>NaN</td>\n",
              "      <td>NaN</td>\n",
              "    </tr>\n",
              "    <tr>\n",
              "      <th>min</th>\n",
              "      <td>NaN</td>\n",
              "      <td>NaN</td>\n",
              "      <td>60.000000</td>\n",
              "      <td>NaN</td>\n",
              "      <td>NaN</td>\n",
              "      <td>NaN</td>\n",
              "      <td>NaN</td>\n",
              "      <td>NaN</td>\n",
              "      <td>NaN</td>\n",
              "      <td>NaN</td>\n",
              "      <td>NaN</td>\n",
              "    </tr>\n",
              "    <tr>\n",
              "      <th>25%</th>\n",
              "      <td>NaN</td>\n",
              "      <td>NaN</td>\n",
              "      <td>74.000000</td>\n",
              "      <td>NaN</td>\n",
              "      <td>NaN</td>\n",
              "      <td>NaN</td>\n",
              "      <td>NaN</td>\n",
              "      <td>NaN</td>\n",
              "      <td>NaN</td>\n",
              "      <td>NaN</td>\n",
              "      <td>NaN</td>\n",
              "    </tr>\n",
              "    <tr>\n",
              "      <th>50%</th>\n",
              "      <td>NaN</td>\n",
              "      <td>NaN</td>\n",
              "      <td>80.000000</td>\n",
              "      <td>NaN</td>\n",
              "      <td>NaN</td>\n",
              "      <td>NaN</td>\n",
              "      <td>NaN</td>\n",
              "      <td>NaN</td>\n",
              "      <td>NaN</td>\n",
              "      <td>NaN</td>\n",
              "      <td>NaN</td>\n",
              "    </tr>\n",
              "    <tr>\n",
              "      <th>75%</th>\n",
              "      <td>NaN</td>\n",
              "      <td>NaN</td>\n",
              "      <td>84.000000</td>\n",
              "      <td>NaN</td>\n",
              "      <td>NaN</td>\n",
              "      <td>NaN</td>\n",
              "      <td>NaN</td>\n",
              "      <td>NaN</td>\n",
              "      <td>NaN</td>\n",
              "      <td>NaN</td>\n",
              "      <td>NaN</td>\n",
              "    </tr>\n",
              "    <tr>\n",
              "      <th>max</th>\n",
              "      <td>NaN</td>\n",
              "      <td>NaN</td>\n",
              "      <td>89.000000</td>\n",
              "      <td>NaN</td>\n",
              "      <td>NaN</td>\n",
              "      <td>NaN</td>\n",
              "      <td>NaN</td>\n",
              "      <td>NaN</td>\n",
              "      <td>NaN</td>\n",
              "      <td>NaN</td>\n",
              "      <td>NaN</td>\n",
              "    </tr>\n",
              "  </tbody>\n",
              "</table>\n",
              "</div>"
            ],
            "text/plain": [
              "                model    price      rating                             sim  \\\n",
              "count            1019     1020  879.000000                            1020   \n",
              "unique           1019      412         NaN                              28   \n",
              "top     OnePlus 11 5G  ?14,999         NaN  Dual Sim, 3G, 4G, VoLTE, Wi-Fi   \n",
              "freq                1       21         NaN                             324   \n",
              "mean              NaN      NaN   78.258248                             NaN   \n",
              "std               NaN      NaN    7.402854                             NaN   \n",
              "min               NaN      NaN   60.000000                             NaN   \n",
              "25%               NaN      NaN   74.000000                             NaN   \n",
              "50%               NaN      NaN   80.000000                             NaN   \n",
              "75%               NaN      NaN   84.000000                             NaN   \n",
              "max               NaN      NaN   89.000000                             NaN   \n",
              "\n",
              "                                             processor  \\\n",
              "count                                             1020   \n",
              "unique                                             298   \n",
              "top     Dimensity 700 5G, Octa Core, 2.2?GHz Processor   \n",
              "freq                                                29   \n",
              "mean                                               NaN   \n",
              "std                                                NaN   \n",
              "min                                                NaN   \n",
              "25%                                                NaN   \n",
              "50%                                                NaN   \n",
              "75%                                                NaN   \n",
              "max                                                NaN   \n",
              "\n",
              "                             ram                                  battery  \\\n",
              "count                       1020                                     1020   \n",
              "unique                        58                                      256   \n",
              "top     8?GB RAM, 128?GB inbuilt  5000?mAh Battery with 33W Fast Charging   \n",
              "freq                         267                                      103   \n",
              "mean                         NaN                                      NaN   \n",
              "std                          NaN                                      NaN   \n",
              "min                          NaN                                      NaN   \n",
              "25%                          NaN                                      NaN   \n",
              "50%                          NaN                                      NaN   \n",
              "75%                          NaN                                      NaN   \n",
              "max                          NaN                                      NaN   \n",
              "\n",
              "                                                  display  \\\n",
              "count                                                1020   \n",
              "unique                                                369   \n",
              "top     6.67 inches, 1080?x?2400?px, 120 Hz Display wi...   \n",
              "freq                                                   54   \n",
              "mean                                                  NaN   \n",
              "std                                                   NaN   \n",
              "min                                                   NaN   \n",
              "25%                                                   NaN   \n",
              "50%                                                   NaN   \n",
              "75%                                                   NaN   \n",
              "max                                                   NaN   \n",
              "\n",
              "                                                   camera  \\\n",
              "count                                                1019   \n",
              "unique                                                285   \n",
              "top     50?MP + 8?MP + 2?MP Triple Rear & 16?MP Front ...   \n",
              "freq                                                   40   \n",
              "mean                                                  NaN   \n",
              "std                                                   NaN   \n",
              "min                                                   NaN   \n",
              "25%                                                   NaN   \n",
              "50%                                                   NaN   \n",
              "75%                                                   NaN   \n",
              "max                                                   NaN   \n",
              "\n",
              "                                    card           os  \n",
              "count                               1013         1003  \n",
              "unique                                63           48  \n",
              "top     Memory Card Supported, upto 1?TB  Android v12  \n",
              "freq                                 171          287  \n",
              "mean                                 NaN          NaN  \n",
              "std                                  NaN          NaN  \n",
              "min                                  NaN          NaN  \n",
              "25%                                  NaN          NaN  \n",
              "50%                                  NaN          NaN  \n",
              "75%                                  NaN          NaN  \n",
              "max                                  NaN          NaN  "
            ]
          },
          "execution_count": 34,
          "metadata": {},
          "output_type": "execute_result"
        }
      ],
      "source": [
        "df.describe(include=\"all\")"
      ]
    },
    {
      "cell_type": "markdown",
      "metadata": {},
      "source": [
        "**Check all the NULL VALUES**"
      ]
    },
    {
      "cell_type": "code",
      "execution_count": 35,
      "metadata": {},
      "outputs": [
        {
          "data": {
            "text/html": [
              "<div>\n",
              "<style scoped>\n",
              "    .dataframe tbody tr th:only-of-type {\n",
              "        vertical-align: middle;\n",
              "    }\n",
              "\n",
              "    .dataframe tbody tr th {\n",
              "        vertical-align: top;\n",
              "    }\n",
              "\n",
              "    .dataframe thead th {\n",
              "        text-align: right;\n",
              "    }\n",
              "</style>\n",
              "<table border=\"1\" class=\"dataframe\">\n",
              "  <thead>\n",
              "    <tr style=\"text-align: right;\">\n",
              "      <th></th>\n",
              "      <th>model</th>\n",
              "      <th>price</th>\n",
              "      <th>rating</th>\n",
              "      <th>sim</th>\n",
              "      <th>processor</th>\n",
              "      <th>ram</th>\n",
              "      <th>battery</th>\n",
              "      <th>display</th>\n",
              "      <th>camera</th>\n",
              "      <th>card</th>\n",
              "      <th>os</th>\n",
              "    </tr>\n",
              "  </thead>\n",
              "  <tbody>\n",
              "    <tr>\n",
              "      <th>0</th>\n",
              "      <td>False</td>\n",
              "      <td>False</td>\n",
              "      <td>False</td>\n",
              "      <td>False</td>\n",
              "      <td>False</td>\n",
              "      <td>False</td>\n",
              "      <td>False</td>\n",
              "      <td>False</td>\n",
              "      <td>False</td>\n",
              "      <td>False</td>\n",
              "      <td>False</td>\n",
              "    </tr>\n",
              "    <tr>\n",
              "      <th>1</th>\n",
              "      <td>False</td>\n",
              "      <td>False</td>\n",
              "      <td>False</td>\n",
              "      <td>False</td>\n",
              "      <td>False</td>\n",
              "      <td>False</td>\n",
              "      <td>False</td>\n",
              "      <td>False</td>\n",
              "      <td>False</td>\n",
              "      <td>False</td>\n",
              "      <td>False</td>\n",
              "    </tr>\n",
              "    <tr>\n",
              "      <th>2</th>\n",
              "      <td>False</td>\n",
              "      <td>False</td>\n",
              "      <td>False</td>\n",
              "      <td>False</td>\n",
              "      <td>False</td>\n",
              "      <td>False</td>\n",
              "      <td>False</td>\n",
              "      <td>False</td>\n",
              "      <td>False</td>\n",
              "      <td>False</td>\n",
              "      <td>False</td>\n",
              "    </tr>\n",
              "    <tr>\n",
              "      <th>3</th>\n",
              "      <td>False</td>\n",
              "      <td>False</td>\n",
              "      <td>False</td>\n",
              "      <td>False</td>\n",
              "      <td>False</td>\n",
              "      <td>False</td>\n",
              "      <td>False</td>\n",
              "      <td>False</td>\n",
              "      <td>False</td>\n",
              "      <td>False</td>\n",
              "      <td>False</td>\n",
              "    </tr>\n",
              "    <tr>\n",
              "      <th>4</th>\n",
              "      <td>False</td>\n",
              "      <td>False</td>\n",
              "      <td>False</td>\n",
              "      <td>False</td>\n",
              "      <td>False</td>\n",
              "      <td>False</td>\n",
              "      <td>False</td>\n",
              "      <td>False</td>\n",
              "      <td>False</td>\n",
              "      <td>False</td>\n",
              "      <td>False</td>\n",
              "    </tr>\n",
              "    <tr>\n",
              "      <th>...</th>\n",
              "      <td>...</td>\n",
              "      <td>...</td>\n",
              "      <td>...</td>\n",
              "      <td>...</td>\n",
              "      <td>...</td>\n",
              "      <td>...</td>\n",
              "      <td>...</td>\n",
              "      <td>...</td>\n",
              "      <td>...</td>\n",
              "      <td>...</td>\n",
              "      <td>...</td>\n",
              "    </tr>\n",
              "    <tr>\n",
              "      <th>1015</th>\n",
              "      <td>False</td>\n",
              "      <td>False</td>\n",
              "      <td>False</td>\n",
              "      <td>False</td>\n",
              "      <td>False</td>\n",
              "      <td>False</td>\n",
              "      <td>False</td>\n",
              "      <td>False</td>\n",
              "      <td>False</td>\n",
              "      <td>False</td>\n",
              "      <td>False</td>\n",
              "    </tr>\n",
              "    <tr>\n",
              "      <th>1016</th>\n",
              "      <td>False</td>\n",
              "      <td>False</td>\n",
              "      <td>False</td>\n",
              "      <td>False</td>\n",
              "      <td>False</td>\n",
              "      <td>False</td>\n",
              "      <td>False</td>\n",
              "      <td>False</td>\n",
              "      <td>False</td>\n",
              "      <td>False</td>\n",
              "      <td>False</td>\n",
              "    </tr>\n",
              "    <tr>\n",
              "      <th>1017</th>\n",
              "      <td>False</td>\n",
              "      <td>False</td>\n",
              "      <td>False</td>\n",
              "      <td>False</td>\n",
              "      <td>False</td>\n",
              "      <td>False</td>\n",
              "      <td>False</td>\n",
              "      <td>False</td>\n",
              "      <td>False</td>\n",
              "      <td>False</td>\n",
              "      <td>False</td>\n",
              "    </tr>\n",
              "    <tr>\n",
              "      <th>1018</th>\n",
              "      <td>False</td>\n",
              "      <td>False</td>\n",
              "      <td>False</td>\n",
              "      <td>False</td>\n",
              "      <td>False</td>\n",
              "      <td>False</td>\n",
              "      <td>False</td>\n",
              "      <td>False</td>\n",
              "      <td>False</td>\n",
              "      <td>False</td>\n",
              "      <td>False</td>\n",
              "    </tr>\n",
              "    <tr>\n",
              "      <th>1019</th>\n",
              "      <td>False</td>\n",
              "      <td>False</td>\n",
              "      <td>False</td>\n",
              "      <td>False</td>\n",
              "      <td>False</td>\n",
              "      <td>False</td>\n",
              "      <td>False</td>\n",
              "      <td>False</td>\n",
              "      <td>False</td>\n",
              "      <td>False</td>\n",
              "      <td>False</td>\n",
              "    </tr>\n",
              "  </tbody>\n",
              "</table>\n",
              "<p>1020 rows × 11 columns</p>\n",
              "</div>"
            ],
            "text/plain": [
              "      model  price  rating    sim  processor    ram  battery  display  camera  \\\n",
              "0     False  False   False  False      False  False    False    False   False   \n",
              "1     False  False   False  False      False  False    False    False   False   \n",
              "2     False  False   False  False      False  False    False    False   False   \n",
              "3     False  False   False  False      False  False    False    False   False   \n",
              "4     False  False   False  False      False  False    False    False   False   \n",
              "...     ...    ...     ...    ...        ...    ...      ...      ...     ...   \n",
              "1015  False  False   False  False      False  False    False    False   False   \n",
              "1016  False  False   False  False      False  False    False    False   False   \n",
              "1017  False  False   False  False      False  False    False    False   False   \n",
              "1018  False  False   False  False      False  False    False    False   False   \n",
              "1019  False  False   False  False      False  False    False    False   False   \n",
              "\n",
              "       card     os  \n",
              "0     False  False  \n",
              "1     False  False  \n",
              "2     False  False  \n",
              "3     False  False  \n",
              "4     False  False  \n",
              "...     ...    ...  \n",
              "1015  False  False  \n",
              "1016  False  False  \n",
              "1017  False  False  \n",
              "1018  False  False  \n",
              "1019  False  False  \n",
              "\n",
              "[1020 rows x 11 columns]"
            ]
          },
          "execution_count": 35,
          "metadata": {},
          "output_type": "execute_result"
        }
      ],
      "source": [
        "df.isnull()"
      ]
    },
    {
      "cell_type": "code",
      "execution_count": 36,
      "metadata": {},
      "outputs": [
        {
          "data": {
            "text/plain": [
              "model          1\n",
              "price          0\n",
              "rating       141\n",
              "sim            0\n",
              "processor      0\n",
              "ram            0\n",
              "battery        0\n",
              "display        0\n",
              "camera         1\n",
              "card           7\n",
              "os            17\n",
              "dtype: int64"
            ]
          },
          "execution_count": 36,
          "metadata": {},
          "output_type": "execute_result"
        }
      ],
      "source": [
        "df.isnull().sum()"
      ]
    },
    {
      "cell_type": "markdown",
      "metadata": {},
      "source": [
        "**Check datatypes**"
      ]
    },
    {
      "cell_type": "code",
      "execution_count": 37,
      "metadata": {},
      "outputs": [
        {
          "data": {
            "text/plain": [
              "model         object\n",
              "price         object\n",
              "rating       float64\n",
              "sim           object\n",
              "processor     object\n",
              "ram           object\n",
              "battery       object\n",
              "display       object\n",
              "camera        object\n",
              "card          object\n",
              "os            object\n",
              "dtype: object"
            ]
          },
          "execution_count": 37,
          "metadata": {},
          "output_type": "execute_result"
        }
      ],
      "source": [
        "df.dtypes"
      ]
    },
    {
      "cell_type": "markdown",
      "metadata": {},
      "source": [
        "### Fill NULL values"
      ]
    },
    {
      "cell_type": "markdown",
      "metadata": {},
      "source": [
        "**Fill values with Mean**"
      ]
    },
    {
      "cell_type": "code",
      "execution_count": 38,
      "metadata": {},
      "outputs": [],
      "source": [
        "df[\"rating\"].fillna(round(df[\"rating\"].mean()),inplace=True)"
      ]
    },
    {
      "cell_type": "markdown",
      "metadata": {},
      "source": [
        "**Fill values with Mode (Most Frequent)**"
      ]
    },
    {
      "cell_type": "code",
      "execution_count": 39,
      "metadata": {},
      "outputs": [],
      "source": [
        "#Filling values with Mean\n",
        "\n",
        "df[\"os\"].fillna(df[\"os\"].mode(),inplace=True)"
      ]
    },
    {
      "cell_type": "markdown",
      "metadata": {},
      "source": [
        "**Drop non required rows**"
      ]
    },
    {
      "cell_type": "code",
      "execution_count": 40,
      "metadata": {},
      "outputs": [
        {
          "data": {
            "text/html": [
              "<div>\n",
              "<style scoped>\n",
              "    .dataframe tbody tr th:only-of-type {\n",
              "        vertical-align: middle;\n",
              "    }\n",
              "\n",
              "    .dataframe tbody tr th {\n",
              "        vertical-align: top;\n",
              "    }\n",
              "\n",
              "    .dataframe thead th {\n",
              "        text-align: right;\n",
              "    }\n",
              "</style>\n",
              "<table border=\"1\" class=\"dataframe\">\n",
              "  <thead>\n",
              "    <tr style=\"text-align: right;\">\n",
              "      <th></th>\n",
              "      <th>model</th>\n",
              "      <th>price</th>\n",
              "      <th>rating</th>\n",
              "      <th>sim</th>\n",
              "      <th>processor</th>\n",
              "      <th>ram</th>\n",
              "      <th>battery</th>\n",
              "      <th>display</th>\n",
              "      <th>camera</th>\n",
              "      <th>card</th>\n",
              "      <th>os</th>\n",
              "    </tr>\n",
              "  </thead>\n",
              "  <tbody>\n",
              "    <tr>\n",
              "      <th>0</th>\n",
              "      <td>OnePlus 11 5G</td>\n",
              "      <td>?54,999</td>\n",
              "      <td>89.0</td>\n",
              "      <td>Dual Sim, 3G, 4G, 5G, VoLTE, Wi-Fi, NFC</td>\n",
              "      <td>Snapdragon 8 Gen2, Octa Core, 3.2?GHz Processor</td>\n",
              "      <td>12?GB RAM, 256?GB inbuilt</td>\n",
              "      <td>5000?mAh Battery with 100W Fast Charging</td>\n",
              "      <td>6.7 inches, 1440?x?3216?px, 120 Hz Display wit...</td>\n",
              "      <td>50?MP + 48?MP + 32?MP Triple Rear &amp; 16?MP Fron...</td>\n",
              "      <td>Memory Card Not Supported</td>\n",
              "      <td>Android v13</td>\n",
              "    </tr>\n",
              "    <tr>\n",
              "      <th>1</th>\n",
              "      <td>OnePlus Nord CE 2 Lite 5G</td>\n",
              "      <td>?19,989</td>\n",
              "      <td>81.0</td>\n",
              "      <td>Dual Sim, 3G, 4G, 5G, VoLTE, Wi-Fi</td>\n",
              "      <td>Snapdragon 695, Octa Core, 2.2?GHz Processor</td>\n",
              "      <td>6?GB RAM, 128?GB inbuilt</td>\n",
              "      <td>5000?mAh Battery with 33W Fast Charging</td>\n",
              "      <td>6.59 inches, 1080?x?2412?px, 120 Hz Display wi...</td>\n",
              "      <td>64?MP + 2?MP + 2?MP Triple Rear &amp; 16?MP Front ...</td>\n",
              "      <td>Memory Card (Hybrid), upto 1?TB</td>\n",
              "      <td>Android v12</td>\n",
              "    </tr>\n",
              "    <tr>\n",
              "      <th>2</th>\n",
              "      <td>Samsung Galaxy A14 5G</td>\n",
              "      <td>?16,499</td>\n",
              "      <td>75.0</td>\n",
              "      <td>Dual Sim, 3G, 4G, 5G, VoLTE, Wi-Fi</td>\n",
              "      <td>Exynos 1330, Octa Core, 2.4?GHz Processor</td>\n",
              "      <td>4?GB RAM, 64?GB inbuilt</td>\n",
              "      <td>5000?mAh Battery with 15W Fast Charging</td>\n",
              "      <td>6.6 inches, 1080?x?2408?px, 90 Hz Display with...</td>\n",
              "      <td>50?MP + 2?MP + 2?MP Triple Rear &amp; 13?MP Front ...</td>\n",
              "      <td>Memory Card Supported, upto 1?TB</td>\n",
              "      <td>Android v13</td>\n",
              "    </tr>\n",
              "    <tr>\n",
              "      <th>3</th>\n",
              "      <td>Motorola Moto G62 5G</td>\n",
              "      <td>?14,999</td>\n",
              "      <td>81.0</td>\n",
              "      <td>Dual Sim, 3G, 4G, 5G, VoLTE, Wi-Fi</td>\n",
              "      <td>Snapdragon  695, Octa Core, 2.2?GHz Processor</td>\n",
              "      <td>6?GB RAM, 128?GB inbuilt</td>\n",
              "      <td>5000?mAh Battery with Fast Charging</td>\n",
              "      <td>6.55 inches, 1080?x?2400?px, 120 Hz Display wi...</td>\n",
              "      <td>50?MP + 8?MP + 2?MP Triple Rear &amp; 16?MP Front ...</td>\n",
              "      <td>Memory Card (Hybrid), upto 1?TB</td>\n",
              "      <td>Android v12</td>\n",
              "    </tr>\n",
              "    <tr>\n",
              "      <th>4</th>\n",
              "      <td>Realme 10 Pro Plus</td>\n",
              "      <td>?24,999</td>\n",
              "      <td>82.0</td>\n",
              "      <td>Dual Sim, 3G, 4G, 5G, VoLTE, Wi-Fi</td>\n",
              "      <td>Dimensity 1080, Octa Core, 2.6?GHz Processor</td>\n",
              "      <td>6?GB RAM, 128?GB inbuilt</td>\n",
              "      <td>5000?mAh Battery with 67W Fast Charging</td>\n",
              "      <td>6.7 inches, 1080?x?2412?px, 120 Hz Display wit...</td>\n",
              "      <td>108?MP + 8?MP + 2?MP Triple Rear &amp; 16?MP Front...</td>\n",
              "      <td>Memory Card Not Supported</td>\n",
              "      <td>Android v13</td>\n",
              "    </tr>\n",
              "    <tr>\n",
              "      <th>...</th>\n",
              "      <td>...</td>\n",
              "      <td>...</td>\n",
              "      <td>...</td>\n",
              "      <td>...</td>\n",
              "      <td>...</td>\n",
              "      <td>...</td>\n",
              "      <td>...</td>\n",
              "      <td>...</td>\n",
              "      <td>...</td>\n",
              "      <td>...</td>\n",
              "      <td>...</td>\n",
              "    </tr>\n",
              "    <tr>\n",
              "      <th>1015</th>\n",
              "      <td>Motorola Moto Edge S30 Pro</td>\n",
              "      <td>?34,990</td>\n",
              "      <td>83.0</td>\n",
              "      <td>Dual Sim, 3G, 4G, 5G, VoLTE, Wi-Fi</td>\n",
              "      <td>Snapdragon 8 Gen1, Octa Core, 3?GHz Processor</td>\n",
              "      <td>8?GB RAM, 128?GB inbuilt</td>\n",
              "      <td>5000?mAh Battery with 68.2W Fast Charging</td>\n",
              "      <td>6.67 inches, 1080?x?2460?px, 120 Hz Display wi...</td>\n",
              "      <td>64?MP + 8?MP + 2?MP Triple Rear &amp; 16?MP Front ...</td>\n",
              "      <td>Android v12</td>\n",
              "      <td>No FM Radio</td>\n",
              "    </tr>\n",
              "    <tr>\n",
              "      <th>1016</th>\n",
              "      <td>Honor X8 5G</td>\n",
              "      <td>?14,990</td>\n",
              "      <td>75.0</td>\n",
              "      <td>Dual Sim, 3G, 4G, 5G, VoLTE, Wi-Fi</td>\n",
              "      <td>Snapdragon  480+, Octa Core, 2.2?GHz Processor</td>\n",
              "      <td>6?GB RAM, 128?GB inbuilt</td>\n",
              "      <td>5000?mAh Battery with 22.5W Fast Charging</td>\n",
              "      <td>6.5 inches, 720?x?1600?px Display with Water D...</td>\n",
              "      <td>48?MP + 2?MP + Depth Sensor Triple Rear &amp; 8?MP...</td>\n",
              "      <td>Memory Card Supported, upto 1?TB</td>\n",
              "      <td>Android v11</td>\n",
              "    </tr>\n",
              "    <tr>\n",
              "      <th>1017</th>\n",
              "      <td>POCO X4 GT 5G (8GB RAM + 256GB)</td>\n",
              "      <td>?28,990</td>\n",
              "      <td>85.0</td>\n",
              "      <td>Dual Sim, 3G, 4G, 5G, VoLTE, Wi-Fi, NFC, IR Bl...</td>\n",
              "      <td>Dimensity 8100, Octa Core, 2.85?GHz Processor</td>\n",
              "      <td>8?GB RAM, 256?GB inbuilt</td>\n",
              "      <td>5080?mAh Battery with 67W Fast Charging</td>\n",
              "      <td>6.6 inches, 1080?x?2460?px, 144 Hz Display wit...</td>\n",
              "      <td>64?MP + 8?MP + 2?MP Triple Rear &amp; 16?MP Front ...</td>\n",
              "      <td>Memory Card Not Supported</td>\n",
              "      <td>Android v12</td>\n",
              "    </tr>\n",
              "    <tr>\n",
              "      <th>1018</th>\n",
              "      <td>Motorola Moto G91 5G</td>\n",
              "      <td>?19,990</td>\n",
              "      <td>80.0</td>\n",
              "      <td>Dual Sim, 3G, 4G, 5G, VoLTE, Wi-Fi, NFC</td>\n",
              "      <td>Snapdragon 695, Octa Core, 2.2?GHz Processor</td>\n",
              "      <td>6?GB RAM, 128?GB inbuilt</td>\n",
              "      <td>5000?mAh Battery with Fast Charging</td>\n",
              "      <td>6.8 inches, 1080?x?2400?px Display with Punch ...</td>\n",
              "      <td>108?MP + 8?MP + 2?MP Triple Rear &amp; 32?MP Front...</td>\n",
              "      <td>Memory Card Supported, upto 1?TB</td>\n",
              "      <td>Android v12</td>\n",
              "    </tr>\n",
              "    <tr>\n",
              "      <th>1019</th>\n",
              "      <td>Samsung Galaxy M52s 5G</td>\n",
              "      <td>?24,990</td>\n",
              "      <td>74.0</td>\n",
              "      <td>Dual Sim, 3G, 4G, 5G, VoLTE, Wi-Fi</td>\n",
              "      <td>Octa Core Processor</td>\n",
              "      <td>8?GB RAM, 128?GB inbuilt</td>\n",
              "      <td>5000?mAh Battery with Fast Charging</td>\n",
              "      <td>6.5 inches, 1080?x?2400?px Display with Water ...</td>\n",
              "      <td>64?MP + 8?MP + 5?MP Triple Rear &amp; 32?MP Front ...</td>\n",
              "      <td>Memory Card Supported, upto 1?TB</td>\n",
              "      <td>Android v12</td>\n",
              "    </tr>\n",
              "  </tbody>\n",
              "</table>\n",
              "<p>1002 rows × 11 columns</p>\n",
              "</div>"
            ],
            "text/plain": [
              "                                model    price  rating  \\\n",
              "0                       OnePlus 11 5G  ?54,999    89.0   \n",
              "1           OnePlus Nord CE 2 Lite 5G  ?19,989    81.0   \n",
              "2               Samsung Galaxy A14 5G  ?16,499    75.0   \n",
              "3                Motorola Moto G62 5G  ?14,999    81.0   \n",
              "4                  Realme 10 Pro Plus  ?24,999    82.0   \n",
              "...                               ...      ...     ...   \n",
              "1015       Motorola Moto Edge S30 Pro  ?34,990    83.0   \n",
              "1016                      Honor X8 5G  ?14,990    75.0   \n",
              "1017  POCO X4 GT 5G (8GB RAM + 256GB)  ?28,990    85.0   \n",
              "1018             Motorola Moto G91 5G  ?19,990    80.0   \n",
              "1019           Samsung Galaxy M52s 5G  ?24,990    74.0   \n",
              "\n",
              "                                                    sim  \\\n",
              "0               Dual Sim, 3G, 4G, 5G, VoLTE, Wi-Fi, NFC   \n",
              "1                    Dual Sim, 3G, 4G, 5G, VoLTE, Wi-Fi   \n",
              "2                    Dual Sim, 3G, 4G, 5G, VoLTE, Wi-Fi   \n",
              "3                    Dual Sim, 3G, 4G, 5G, VoLTE, Wi-Fi   \n",
              "4                    Dual Sim, 3G, 4G, 5G, VoLTE, Wi-Fi   \n",
              "...                                                 ...   \n",
              "1015                 Dual Sim, 3G, 4G, 5G, VoLTE, Wi-Fi   \n",
              "1016                 Dual Sim, 3G, 4G, 5G, VoLTE, Wi-Fi   \n",
              "1017  Dual Sim, 3G, 4G, 5G, VoLTE, Wi-Fi, NFC, IR Bl...   \n",
              "1018            Dual Sim, 3G, 4G, 5G, VoLTE, Wi-Fi, NFC   \n",
              "1019                 Dual Sim, 3G, 4G, 5G, VoLTE, Wi-Fi   \n",
              "\n",
              "                                            processor  \\\n",
              "0     Snapdragon 8 Gen2, Octa Core, 3.2?GHz Processor   \n",
              "1        Snapdragon 695, Octa Core, 2.2?GHz Processor   \n",
              "2           Exynos 1330, Octa Core, 2.4?GHz Processor   \n",
              "3       Snapdragon  695, Octa Core, 2.2?GHz Processor   \n",
              "4        Dimensity 1080, Octa Core, 2.6?GHz Processor   \n",
              "...                                               ...   \n",
              "1015    Snapdragon 8 Gen1, Octa Core, 3?GHz Processor   \n",
              "1016   Snapdragon  480+, Octa Core, 2.2?GHz Processor   \n",
              "1017    Dimensity 8100, Octa Core, 2.85?GHz Processor   \n",
              "1018     Snapdragon 695, Octa Core, 2.2?GHz Processor   \n",
              "1019                              Octa Core Processor   \n",
              "\n",
              "                            ram                                    battery  \\\n",
              "0     12?GB RAM, 256?GB inbuilt   5000?mAh Battery with 100W Fast Charging   \n",
              "1      6?GB RAM, 128?GB inbuilt    5000?mAh Battery with 33W Fast Charging   \n",
              "2       4?GB RAM, 64?GB inbuilt    5000?mAh Battery with 15W Fast Charging   \n",
              "3      6?GB RAM, 128?GB inbuilt        5000?mAh Battery with Fast Charging   \n",
              "4      6?GB RAM, 128?GB inbuilt    5000?mAh Battery with 67W Fast Charging   \n",
              "...                         ...                                        ...   \n",
              "1015   8?GB RAM, 128?GB inbuilt  5000?mAh Battery with 68.2W Fast Charging   \n",
              "1016   6?GB RAM, 128?GB inbuilt  5000?mAh Battery with 22.5W Fast Charging   \n",
              "1017   8?GB RAM, 256?GB inbuilt    5080?mAh Battery with 67W Fast Charging   \n",
              "1018   6?GB RAM, 128?GB inbuilt        5000?mAh Battery with Fast Charging   \n",
              "1019   8?GB RAM, 128?GB inbuilt        5000?mAh Battery with Fast Charging   \n",
              "\n",
              "                                                display  \\\n",
              "0     6.7 inches, 1440?x?3216?px, 120 Hz Display wit...   \n",
              "1     6.59 inches, 1080?x?2412?px, 120 Hz Display wi...   \n",
              "2     6.6 inches, 1080?x?2408?px, 90 Hz Display with...   \n",
              "3     6.55 inches, 1080?x?2400?px, 120 Hz Display wi...   \n",
              "4     6.7 inches, 1080?x?2412?px, 120 Hz Display wit...   \n",
              "...                                                 ...   \n",
              "1015  6.67 inches, 1080?x?2460?px, 120 Hz Display wi...   \n",
              "1016  6.5 inches, 720?x?1600?px Display with Water D...   \n",
              "1017  6.6 inches, 1080?x?2460?px, 144 Hz Display wit...   \n",
              "1018  6.8 inches, 1080?x?2400?px Display with Punch ...   \n",
              "1019  6.5 inches, 1080?x?2400?px Display with Water ...   \n",
              "\n",
              "                                                 camera  \\\n",
              "0     50?MP + 48?MP + 32?MP Triple Rear & 16?MP Fron...   \n",
              "1     64?MP + 2?MP + 2?MP Triple Rear & 16?MP Front ...   \n",
              "2     50?MP + 2?MP + 2?MP Triple Rear & 13?MP Front ...   \n",
              "3     50?MP + 8?MP + 2?MP Triple Rear & 16?MP Front ...   \n",
              "4     108?MP + 8?MP + 2?MP Triple Rear & 16?MP Front...   \n",
              "...                                                 ...   \n",
              "1015  64?MP + 8?MP + 2?MP Triple Rear & 16?MP Front ...   \n",
              "1016  48?MP + 2?MP + Depth Sensor Triple Rear & 8?MP...   \n",
              "1017  64?MP + 8?MP + 2?MP Triple Rear & 16?MP Front ...   \n",
              "1018  108?MP + 8?MP + 2?MP Triple Rear & 32?MP Front...   \n",
              "1019  64?MP + 8?MP + 5?MP Triple Rear & 32?MP Front ...   \n",
              "\n",
              "                                  card           os  \n",
              "0            Memory Card Not Supported  Android v13  \n",
              "1      Memory Card (Hybrid), upto 1?TB  Android v12  \n",
              "2     Memory Card Supported, upto 1?TB  Android v13  \n",
              "3      Memory Card (Hybrid), upto 1?TB  Android v12  \n",
              "4            Memory Card Not Supported  Android v13  \n",
              "...                                ...          ...  \n",
              "1015                       Android v12  No FM Radio  \n",
              "1016  Memory Card Supported, upto 1?TB  Android v11  \n",
              "1017         Memory Card Not Supported  Android v12  \n",
              "1018  Memory Card Supported, upto 1?TB  Android v12  \n",
              "1019  Memory Card Supported, upto 1?TB  Android v12  \n",
              "\n",
              "[1002 rows x 11 columns]"
            ]
          },
          "execution_count": 40,
          "metadata": {},
          "output_type": "execute_result"
        }
      ],
      "source": [
        "#Drop rows for NaN values in 'Smoking'\n",
        "\n",
        "df.dropna(inplace=True)\n",
        "df"
      ]
    },
    {
      "cell_type": "markdown",
      "metadata": {},
      "source": [
        "**Reset Index**"
      ]
    },
    {
      "cell_type": "code",
      "execution_count": 41,
      "metadata": {},
      "outputs": [
        {
          "data": {
            "text/html": [
              "<div>\n",
              "<style scoped>\n",
              "    .dataframe tbody tr th:only-of-type {\n",
              "        vertical-align: middle;\n",
              "    }\n",
              "\n",
              "    .dataframe tbody tr th {\n",
              "        vertical-align: top;\n",
              "    }\n",
              "\n",
              "    .dataframe thead th {\n",
              "        text-align: right;\n",
              "    }\n",
              "</style>\n",
              "<table border=\"1\" class=\"dataframe\">\n",
              "  <thead>\n",
              "    <tr style=\"text-align: right;\">\n",
              "      <th></th>\n",
              "      <th>model</th>\n",
              "      <th>price</th>\n",
              "      <th>rating</th>\n",
              "      <th>sim</th>\n",
              "      <th>processor</th>\n",
              "      <th>ram</th>\n",
              "      <th>battery</th>\n",
              "      <th>display</th>\n",
              "      <th>camera</th>\n",
              "      <th>card</th>\n",
              "      <th>os</th>\n",
              "    </tr>\n",
              "  </thead>\n",
              "  <tbody>\n",
              "    <tr>\n",
              "      <th>0</th>\n",
              "      <td>OnePlus 11 5G</td>\n",
              "      <td>?54,999</td>\n",
              "      <td>89.0</td>\n",
              "      <td>Dual Sim, 3G, 4G, 5G, VoLTE, Wi-Fi, NFC</td>\n",
              "      <td>Snapdragon 8 Gen2, Octa Core, 3.2?GHz Processor</td>\n",
              "      <td>12?GB RAM, 256?GB inbuilt</td>\n",
              "      <td>5000?mAh Battery with 100W Fast Charging</td>\n",
              "      <td>6.7 inches, 1440?x?3216?px, 120 Hz Display wit...</td>\n",
              "      <td>50?MP + 48?MP + 32?MP Triple Rear &amp; 16?MP Fron...</td>\n",
              "      <td>Memory Card Not Supported</td>\n",
              "      <td>Android v13</td>\n",
              "    </tr>\n",
              "    <tr>\n",
              "      <th>1</th>\n",
              "      <td>OnePlus Nord CE 2 Lite 5G</td>\n",
              "      <td>?19,989</td>\n",
              "      <td>81.0</td>\n",
              "      <td>Dual Sim, 3G, 4G, 5G, VoLTE, Wi-Fi</td>\n",
              "      <td>Snapdragon 695, Octa Core, 2.2?GHz Processor</td>\n",
              "      <td>6?GB RAM, 128?GB inbuilt</td>\n",
              "      <td>5000?mAh Battery with 33W Fast Charging</td>\n",
              "      <td>6.59 inches, 1080?x?2412?px, 120 Hz Display wi...</td>\n",
              "      <td>64?MP + 2?MP + 2?MP Triple Rear &amp; 16?MP Front ...</td>\n",
              "      <td>Memory Card (Hybrid), upto 1?TB</td>\n",
              "      <td>Android v12</td>\n",
              "    </tr>\n",
              "    <tr>\n",
              "      <th>2</th>\n",
              "      <td>Samsung Galaxy A14 5G</td>\n",
              "      <td>?16,499</td>\n",
              "      <td>75.0</td>\n",
              "      <td>Dual Sim, 3G, 4G, 5G, VoLTE, Wi-Fi</td>\n",
              "      <td>Exynos 1330, Octa Core, 2.4?GHz Processor</td>\n",
              "      <td>4?GB RAM, 64?GB inbuilt</td>\n",
              "      <td>5000?mAh Battery with 15W Fast Charging</td>\n",
              "      <td>6.6 inches, 1080?x?2408?px, 90 Hz Display with...</td>\n",
              "      <td>50?MP + 2?MP + 2?MP Triple Rear &amp; 13?MP Front ...</td>\n",
              "      <td>Memory Card Supported, upto 1?TB</td>\n",
              "      <td>Android v13</td>\n",
              "    </tr>\n",
              "    <tr>\n",
              "      <th>3</th>\n",
              "      <td>Motorola Moto G62 5G</td>\n",
              "      <td>?14,999</td>\n",
              "      <td>81.0</td>\n",
              "      <td>Dual Sim, 3G, 4G, 5G, VoLTE, Wi-Fi</td>\n",
              "      <td>Snapdragon  695, Octa Core, 2.2?GHz Processor</td>\n",
              "      <td>6?GB RAM, 128?GB inbuilt</td>\n",
              "      <td>5000?mAh Battery with Fast Charging</td>\n",
              "      <td>6.55 inches, 1080?x?2400?px, 120 Hz Display wi...</td>\n",
              "      <td>50?MP + 8?MP + 2?MP Triple Rear &amp; 16?MP Front ...</td>\n",
              "      <td>Memory Card (Hybrid), upto 1?TB</td>\n",
              "      <td>Android v12</td>\n",
              "    </tr>\n",
              "    <tr>\n",
              "      <th>4</th>\n",
              "      <td>Realme 10 Pro Plus</td>\n",
              "      <td>?24,999</td>\n",
              "      <td>82.0</td>\n",
              "      <td>Dual Sim, 3G, 4G, 5G, VoLTE, Wi-Fi</td>\n",
              "      <td>Dimensity 1080, Octa Core, 2.6?GHz Processor</td>\n",
              "      <td>6?GB RAM, 128?GB inbuilt</td>\n",
              "      <td>5000?mAh Battery with 67W Fast Charging</td>\n",
              "      <td>6.7 inches, 1080?x?2412?px, 120 Hz Display wit...</td>\n",
              "      <td>108?MP + 8?MP + 2?MP Triple Rear &amp; 16?MP Front...</td>\n",
              "      <td>Memory Card Not Supported</td>\n",
              "      <td>Android v13</td>\n",
              "    </tr>\n",
              "    <tr>\n",
              "      <th>...</th>\n",
              "      <td>...</td>\n",
              "      <td>...</td>\n",
              "      <td>...</td>\n",
              "      <td>...</td>\n",
              "      <td>...</td>\n",
              "      <td>...</td>\n",
              "      <td>...</td>\n",
              "      <td>...</td>\n",
              "      <td>...</td>\n",
              "      <td>...</td>\n",
              "      <td>...</td>\n",
              "    </tr>\n",
              "    <tr>\n",
              "      <th>997</th>\n",
              "      <td>Motorola Moto Edge S30 Pro</td>\n",
              "      <td>?34,990</td>\n",
              "      <td>83.0</td>\n",
              "      <td>Dual Sim, 3G, 4G, 5G, VoLTE, Wi-Fi</td>\n",
              "      <td>Snapdragon 8 Gen1, Octa Core, 3?GHz Processor</td>\n",
              "      <td>8?GB RAM, 128?GB inbuilt</td>\n",
              "      <td>5000?mAh Battery with 68.2W Fast Charging</td>\n",
              "      <td>6.67 inches, 1080?x?2460?px, 120 Hz Display wi...</td>\n",
              "      <td>64?MP + 8?MP + 2?MP Triple Rear &amp; 16?MP Front ...</td>\n",
              "      <td>Android v12</td>\n",
              "      <td>No FM Radio</td>\n",
              "    </tr>\n",
              "    <tr>\n",
              "      <th>998</th>\n",
              "      <td>Honor X8 5G</td>\n",
              "      <td>?14,990</td>\n",
              "      <td>75.0</td>\n",
              "      <td>Dual Sim, 3G, 4G, 5G, VoLTE, Wi-Fi</td>\n",
              "      <td>Snapdragon  480+, Octa Core, 2.2?GHz Processor</td>\n",
              "      <td>6?GB RAM, 128?GB inbuilt</td>\n",
              "      <td>5000?mAh Battery with 22.5W Fast Charging</td>\n",
              "      <td>6.5 inches, 720?x?1600?px Display with Water D...</td>\n",
              "      <td>48?MP + 2?MP + Depth Sensor Triple Rear &amp; 8?MP...</td>\n",
              "      <td>Memory Card Supported, upto 1?TB</td>\n",
              "      <td>Android v11</td>\n",
              "    </tr>\n",
              "    <tr>\n",
              "      <th>999</th>\n",
              "      <td>POCO X4 GT 5G (8GB RAM + 256GB)</td>\n",
              "      <td>?28,990</td>\n",
              "      <td>85.0</td>\n",
              "      <td>Dual Sim, 3G, 4G, 5G, VoLTE, Wi-Fi, NFC, IR Bl...</td>\n",
              "      <td>Dimensity 8100, Octa Core, 2.85?GHz Processor</td>\n",
              "      <td>8?GB RAM, 256?GB inbuilt</td>\n",
              "      <td>5080?mAh Battery with 67W Fast Charging</td>\n",
              "      <td>6.6 inches, 1080?x?2460?px, 144 Hz Display wit...</td>\n",
              "      <td>64?MP + 8?MP + 2?MP Triple Rear &amp; 16?MP Front ...</td>\n",
              "      <td>Memory Card Not Supported</td>\n",
              "      <td>Android v12</td>\n",
              "    </tr>\n",
              "    <tr>\n",
              "      <th>1000</th>\n",
              "      <td>Motorola Moto G91 5G</td>\n",
              "      <td>?19,990</td>\n",
              "      <td>80.0</td>\n",
              "      <td>Dual Sim, 3G, 4G, 5G, VoLTE, Wi-Fi, NFC</td>\n",
              "      <td>Snapdragon 695, Octa Core, 2.2?GHz Processor</td>\n",
              "      <td>6?GB RAM, 128?GB inbuilt</td>\n",
              "      <td>5000?mAh Battery with Fast Charging</td>\n",
              "      <td>6.8 inches, 1080?x?2400?px Display with Punch ...</td>\n",
              "      <td>108?MP + 8?MP + 2?MP Triple Rear &amp; 32?MP Front...</td>\n",
              "      <td>Memory Card Supported, upto 1?TB</td>\n",
              "      <td>Android v12</td>\n",
              "    </tr>\n",
              "    <tr>\n",
              "      <th>1001</th>\n",
              "      <td>Samsung Galaxy M52s 5G</td>\n",
              "      <td>?24,990</td>\n",
              "      <td>74.0</td>\n",
              "      <td>Dual Sim, 3G, 4G, 5G, VoLTE, Wi-Fi</td>\n",
              "      <td>Octa Core Processor</td>\n",
              "      <td>8?GB RAM, 128?GB inbuilt</td>\n",
              "      <td>5000?mAh Battery with Fast Charging</td>\n",
              "      <td>6.5 inches, 1080?x?2400?px Display with Water ...</td>\n",
              "      <td>64?MP + 8?MP + 5?MP Triple Rear &amp; 32?MP Front ...</td>\n",
              "      <td>Memory Card Supported, upto 1?TB</td>\n",
              "      <td>Android v12</td>\n",
              "    </tr>\n",
              "  </tbody>\n",
              "</table>\n",
              "<p>1002 rows × 11 columns</p>\n",
              "</div>"
            ],
            "text/plain": [
              "                                model    price  rating  \\\n",
              "0                       OnePlus 11 5G  ?54,999    89.0   \n",
              "1           OnePlus Nord CE 2 Lite 5G  ?19,989    81.0   \n",
              "2               Samsung Galaxy A14 5G  ?16,499    75.0   \n",
              "3                Motorola Moto G62 5G  ?14,999    81.0   \n",
              "4                  Realme 10 Pro Plus  ?24,999    82.0   \n",
              "...                               ...      ...     ...   \n",
              "997        Motorola Moto Edge S30 Pro  ?34,990    83.0   \n",
              "998                       Honor X8 5G  ?14,990    75.0   \n",
              "999   POCO X4 GT 5G (8GB RAM + 256GB)  ?28,990    85.0   \n",
              "1000             Motorola Moto G91 5G  ?19,990    80.0   \n",
              "1001           Samsung Galaxy M52s 5G  ?24,990    74.0   \n",
              "\n",
              "                                                    sim  \\\n",
              "0               Dual Sim, 3G, 4G, 5G, VoLTE, Wi-Fi, NFC   \n",
              "1                    Dual Sim, 3G, 4G, 5G, VoLTE, Wi-Fi   \n",
              "2                    Dual Sim, 3G, 4G, 5G, VoLTE, Wi-Fi   \n",
              "3                    Dual Sim, 3G, 4G, 5G, VoLTE, Wi-Fi   \n",
              "4                    Dual Sim, 3G, 4G, 5G, VoLTE, Wi-Fi   \n",
              "...                                                 ...   \n",
              "997                  Dual Sim, 3G, 4G, 5G, VoLTE, Wi-Fi   \n",
              "998                  Dual Sim, 3G, 4G, 5G, VoLTE, Wi-Fi   \n",
              "999   Dual Sim, 3G, 4G, 5G, VoLTE, Wi-Fi, NFC, IR Bl...   \n",
              "1000            Dual Sim, 3G, 4G, 5G, VoLTE, Wi-Fi, NFC   \n",
              "1001                 Dual Sim, 3G, 4G, 5G, VoLTE, Wi-Fi   \n",
              "\n",
              "                                            processor  \\\n",
              "0     Snapdragon 8 Gen2, Octa Core, 3.2?GHz Processor   \n",
              "1        Snapdragon 695, Octa Core, 2.2?GHz Processor   \n",
              "2           Exynos 1330, Octa Core, 2.4?GHz Processor   \n",
              "3       Snapdragon  695, Octa Core, 2.2?GHz Processor   \n",
              "4        Dimensity 1080, Octa Core, 2.6?GHz Processor   \n",
              "...                                               ...   \n",
              "997     Snapdragon 8 Gen1, Octa Core, 3?GHz Processor   \n",
              "998    Snapdragon  480+, Octa Core, 2.2?GHz Processor   \n",
              "999     Dimensity 8100, Octa Core, 2.85?GHz Processor   \n",
              "1000     Snapdragon 695, Octa Core, 2.2?GHz Processor   \n",
              "1001                              Octa Core Processor   \n",
              "\n",
              "                            ram                                    battery  \\\n",
              "0     12?GB RAM, 256?GB inbuilt   5000?mAh Battery with 100W Fast Charging   \n",
              "1      6?GB RAM, 128?GB inbuilt    5000?mAh Battery with 33W Fast Charging   \n",
              "2       4?GB RAM, 64?GB inbuilt    5000?mAh Battery with 15W Fast Charging   \n",
              "3      6?GB RAM, 128?GB inbuilt        5000?mAh Battery with Fast Charging   \n",
              "4      6?GB RAM, 128?GB inbuilt    5000?mAh Battery with 67W Fast Charging   \n",
              "...                         ...                                        ...   \n",
              "997    8?GB RAM, 128?GB inbuilt  5000?mAh Battery with 68.2W Fast Charging   \n",
              "998    6?GB RAM, 128?GB inbuilt  5000?mAh Battery with 22.5W Fast Charging   \n",
              "999    8?GB RAM, 256?GB inbuilt    5080?mAh Battery with 67W Fast Charging   \n",
              "1000   6?GB RAM, 128?GB inbuilt        5000?mAh Battery with Fast Charging   \n",
              "1001   8?GB RAM, 128?GB inbuilt        5000?mAh Battery with Fast Charging   \n",
              "\n",
              "                                                display  \\\n",
              "0     6.7 inches, 1440?x?3216?px, 120 Hz Display wit...   \n",
              "1     6.59 inches, 1080?x?2412?px, 120 Hz Display wi...   \n",
              "2     6.6 inches, 1080?x?2408?px, 90 Hz Display with...   \n",
              "3     6.55 inches, 1080?x?2400?px, 120 Hz Display wi...   \n",
              "4     6.7 inches, 1080?x?2412?px, 120 Hz Display wit...   \n",
              "...                                                 ...   \n",
              "997   6.67 inches, 1080?x?2460?px, 120 Hz Display wi...   \n",
              "998   6.5 inches, 720?x?1600?px Display with Water D...   \n",
              "999   6.6 inches, 1080?x?2460?px, 144 Hz Display wit...   \n",
              "1000  6.8 inches, 1080?x?2400?px Display with Punch ...   \n",
              "1001  6.5 inches, 1080?x?2400?px Display with Water ...   \n",
              "\n",
              "                                                 camera  \\\n",
              "0     50?MP + 48?MP + 32?MP Triple Rear & 16?MP Fron...   \n",
              "1     64?MP + 2?MP + 2?MP Triple Rear & 16?MP Front ...   \n",
              "2     50?MP + 2?MP + 2?MP Triple Rear & 13?MP Front ...   \n",
              "3     50?MP + 8?MP + 2?MP Triple Rear & 16?MP Front ...   \n",
              "4     108?MP + 8?MP + 2?MP Triple Rear & 16?MP Front...   \n",
              "...                                                 ...   \n",
              "997   64?MP + 8?MP + 2?MP Triple Rear & 16?MP Front ...   \n",
              "998   48?MP + 2?MP + Depth Sensor Triple Rear & 8?MP...   \n",
              "999   64?MP + 8?MP + 2?MP Triple Rear & 16?MP Front ...   \n",
              "1000  108?MP + 8?MP + 2?MP Triple Rear & 32?MP Front...   \n",
              "1001  64?MP + 8?MP + 5?MP Triple Rear & 32?MP Front ...   \n",
              "\n",
              "                                  card           os  \n",
              "0            Memory Card Not Supported  Android v13  \n",
              "1      Memory Card (Hybrid), upto 1?TB  Android v12  \n",
              "2     Memory Card Supported, upto 1?TB  Android v13  \n",
              "3      Memory Card (Hybrid), upto 1?TB  Android v12  \n",
              "4            Memory Card Not Supported  Android v13  \n",
              "...                                ...          ...  \n",
              "997                        Android v12  No FM Radio  \n",
              "998   Memory Card Supported, upto 1?TB  Android v11  \n",
              "999          Memory Card Not Supported  Android v12  \n",
              "1000  Memory Card Supported, upto 1?TB  Android v12  \n",
              "1001  Memory Card Supported, upto 1?TB  Android v12  \n",
              "\n",
              "[1002 rows x 11 columns]"
            ]
          },
          "execution_count": 41,
          "metadata": {},
          "output_type": "execute_result"
        }
      ],
      "source": [
        "df.reset_index(drop=True, inplace=True)\n",
        "df"
      ]
    },
    {
      "cell_type": "markdown",
      "metadata": {},
      "source": [
        "**Check info and NULL again**"
      ]
    },
    {
      "cell_type": "code",
      "execution_count": 42,
      "metadata": {},
      "outputs": [
        {
          "data": {
            "text/plain": [
              "(1002, 11)"
            ]
          },
          "execution_count": 42,
          "metadata": {},
          "output_type": "execute_result"
        }
      ],
      "source": [
        "df.shape"
      ]
    },
    {
      "cell_type": "code",
      "execution_count": 43,
      "metadata": {},
      "outputs": [
        {
          "name": "stdout",
          "output_type": "stream",
          "text": [
            "<class 'pandas.core.frame.DataFrame'>\n",
            "RangeIndex: 1002 entries, 0 to 1001\n",
            "Data columns (total 11 columns):\n",
            " #   Column     Non-Null Count  Dtype  \n",
            "---  ------     --------------  -----  \n",
            " 0   model      1002 non-null   object \n",
            " 1   price      1002 non-null   object \n",
            " 2   rating     1002 non-null   float64\n",
            " 3   sim        1002 non-null   object \n",
            " 4   processor  1002 non-null   object \n",
            " 5   ram        1002 non-null   object \n",
            " 6   battery    1002 non-null   object \n",
            " 7   display    1002 non-null   object \n",
            " 8   camera     1002 non-null   object \n",
            " 9   card       1002 non-null   object \n",
            " 10  os         1002 non-null   object \n",
            "dtypes: float64(1), object(10)\n",
            "memory usage: 86.2+ KB\n"
          ]
        }
      ],
      "source": [
        "df.info()"
      ]
    },
    {
      "cell_type": "code",
      "execution_count": 44,
      "metadata": {},
      "outputs": [
        {
          "data": {
            "text/plain": [
              "model        0\n",
              "price        0\n",
              "rating       0\n",
              "sim          0\n",
              "processor    0\n",
              "ram          0\n",
              "battery      0\n",
              "display      0\n",
              "camera       0\n",
              "card         0\n",
              "os           0\n",
              "dtype: int64"
            ]
          },
          "execution_count": 44,
          "metadata": {},
          "output_type": "execute_result"
        }
      ],
      "source": [
        "df.isnull().sum()"
      ]
    },
    {
      "cell_type": "markdown",
      "metadata": {},
      "source": [
        "**Data Cleaning**"
      ]
    },
    {
      "cell_type": "code",
      "execution_count": 45,
      "metadata": {},
      "outputs": [
        {
          "name": "stdout",
          "output_type": "stream",
          "text": [
            "model - 1002\n",
            "price - 399\n",
            "rating - 30\n",
            "sim - 25\n",
            "processor - 289\n",
            "ram - 45\n",
            "battery - 244\n",
            "display - 359\n",
            "camera - 280\n",
            "card - 61\n",
            "os - 48\n"
          ]
        }
      ],
      "source": [
        "columns=df.columns\n",
        "for i in columns:\n",
        "    print(i,\"-\",df[i].nunique())"
      ]
    },
    {
      "cell_type": "code",
      "execution_count": 46,
      "metadata": {},
      "outputs": [
        {
          "data": {
            "text/html": [
              "<div>\n",
              "<style scoped>\n",
              "    .dataframe tbody tr th:only-of-type {\n",
              "        vertical-align: middle;\n",
              "    }\n",
              "\n",
              "    .dataframe tbody tr th {\n",
              "        vertical-align: top;\n",
              "    }\n",
              "\n",
              "    .dataframe thead th {\n",
              "        text-align: right;\n",
              "    }\n",
              "</style>\n",
              "<table border=\"1\" class=\"dataframe\">\n",
              "  <thead>\n",
              "    <tr style=\"text-align: right;\">\n",
              "      <th></th>\n",
              "      <th>model</th>\n",
              "      <th>price</th>\n",
              "      <th>rating</th>\n",
              "      <th>sim</th>\n",
              "      <th>processor</th>\n",
              "      <th>ram</th>\n",
              "      <th>battery</th>\n",
              "      <th>display</th>\n",
              "      <th>camera</th>\n",
              "      <th>card</th>\n",
              "      <th>os</th>\n",
              "    </tr>\n",
              "  </thead>\n",
              "  <tbody>\n",
              "    <tr>\n",
              "      <th>0</th>\n",
              "      <td>OnePlus 11 5G</td>\n",
              "      <td>54,999</td>\n",
              "      <td>89.0</td>\n",
              "      <td>Dual Sim, 3G, 4G, 5G, VoLTE, Wi-Fi, NFC</td>\n",
              "      <td>Snapdragon 8 Gen2, Octa Core, 3.2GHz Processor</td>\n",
              "      <td>12GB RAM, 256GB inbuilt</td>\n",
              "      <td>5000mAh Battery with 100W Fast Charging</td>\n",
              "      <td>6.7 inches, 1440x3216px, 120 Hz Display with P...</td>\n",
              "      <td>50MP + 48MP + 32MP Triple Rear &amp; 16MP Front Ca...</td>\n",
              "      <td>Memory Card Not Supported</td>\n",
              "      <td>Android v13</td>\n",
              "    </tr>\n",
              "    <tr>\n",
              "      <th>1</th>\n",
              "      <td>OnePlus Nord CE 2 Lite 5G</td>\n",
              "      <td>19,989</td>\n",
              "      <td>81.0</td>\n",
              "      <td>Dual Sim, 3G, 4G, 5G, VoLTE, Wi-Fi</td>\n",
              "      <td>Snapdragon 695, Octa Core, 2.2GHz Processor</td>\n",
              "      <td>6GB RAM, 128GB inbuilt</td>\n",
              "      <td>5000mAh Battery with 33W Fast Charging</td>\n",
              "      <td>6.59 inches, 1080x2412px, 120 Hz Display with ...</td>\n",
              "      <td>64MP + 2MP + 2MP Triple Rear &amp; 16MP Front Camera</td>\n",
              "      <td>Memory Card (Hybrid), upto 1TB</td>\n",
              "      <td>Android v12</td>\n",
              "    </tr>\n",
              "    <tr>\n",
              "      <th>2</th>\n",
              "      <td>Samsung Galaxy A14 5G</td>\n",
              "      <td>16,499</td>\n",
              "      <td>75.0</td>\n",
              "      <td>Dual Sim, 3G, 4G, 5G, VoLTE, Wi-Fi</td>\n",
              "      <td>Exynos 1330, Octa Core, 2.4GHz Processor</td>\n",
              "      <td>4GB RAM, 64GB inbuilt</td>\n",
              "      <td>5000mAh Battery with 15W Fast Charging</td>\n",
              "      <td>6.6 inches, 1080x2408px, 90 Hz Display with Wa...</td>\n",
              "      <td>50MP + 2MP + 2MP Triple Rear &amp; 13MP Front Camera</td>\n",
              "      <td>Memory Card Supported, upto 1TB</td>\n",
              "      <td>Android v13</td>\n",
              "    </tr>\n",
              "    <tr>\n",
              "      <th>3</th>\n",
              "      <td>Motorola Moto G62 5G</td>\n",
              "      <td>14,999</td>\n",
              "      <td>81.0</td>\n",
              "      <td>Dual Sim, 3G, 4G, 5G, VoLTE, Wi-Fi</td>\n",
              "      <td>Snapdragon  695, Octa Core, 2.2GHz Processor</td>\n",
              "      <td>6GB RAM, 128GB inbuilt</td>\n",
              "      <td>5000mAh Battery with Fast Charging</td>\n",
              "      <td>6.55 inches, 1080x2400px, 120 Hz Display with ...</td>\n",
              "      <td>50MP + 8MP + 2MP Triple Rear &amp; 16MP Front Camera</td>\n",
              "      <td>Memory Card (Hybrid), upto 1TB</td>\n",
              "      <td>Android v12</td>\n",
              "    </tr>\n",
              "    <tr>\n",
              "      <th>4</th>\n",
              "      <td>Realme 10 Pro Plus</td>\n",
              "      <td>24,999</td>\n",
              "      <td>82.0</td>\n",
              "      <td>Dual Sim, 3G, 4G, 5G, VoLTE, Wi-Fi</td>\n",
              "      <td>Dimensity 1080, Octa Core, 2.6GHz Processor</td>\n",
              "      <td>6GB RAM, 128GB inbuilt</td>\n",
              "      <td>5000mAh Battery with 67W Fast Charging</td>\n",
              "      <td>6.7 inches, 1080x2412px, 120 Hz Display with P...</td>\n",
              "      <td>108MP + 8MP + 2MP Triple Rear &amp; 16MP Front Camera</td>\n",
              "      <td>Memory Card Not Supported</td>\n",
              "      <td>Android v13</td>\n",
              "    </tr>\n",
              "    <tr>\n",
              "      <th>...</th>\n",
              "      <td>...</td>\n",
              "      <td>...</td>\n",
              "      <td>...</td>\n",
              "      <td>...</td>\n",
              "      <td>...</td>\n",
              "      <td>...</td>\n",
              "      <td>...</td>\n",
              "      <td>...</td>\n",
              "      <td>...</td>\n",
              "      <td>...</td>\n",
              "      <td>...</td>\n",
              "    </tr>\n",
              "    <tr>\n",
              "      <th>997</th>\n",
              "      <td>Motorola Moto Edge S30 Pro</td>\n",
              "      <td>34,990</td>\n",
              "      <td>83.0</td>\n",
              "      <td>Dual Sim, 3G, 4G, 5G, VoLTE, Wi-Fi</td>\n",
              "      <td>Snapdragon 8 Gen1, Octa Core, 3GHz Processor</td>\n",
              "      <td>8GB RAM, 128GB inbuilt</td>\n",
              "      <td>5000mAh Battery with 68.2W Fast Charging</td>\n",
              "      <td>6.67 inches, 1080x2460px, 120 Hz Display with ...</td>\n",
              "      <td>64MP + 8MP + 2MP Triple Rear &amp; 16MP Front Camera</td>\n",
              "      <td>Android v12</td>\n",
              "      <td>No FM Radio</td>\n",
              "    </tr>\n",
              "    <tr>\n",
              "      <th>998</th>\n",
              "      <td>Honor X8 5G</td>\n",
              "      <td>14,990</td>\n",
              "      <td>75.0</td>\n",
              "      <td>Dual Sim, 3G, 4G, 5G, VoLTE, Wi-Fi</td>\n",
              "      <td>Snapdragon  480+, Octa Core, 2.2GHz Processor</td>\n",
              "      <td>6GB RAM, 128GB inbuilt</td>\n",
              "      <td>5000mAh Battery with 22.5W Fast Charging</td>\n",
              "      <td>6.5 inches, 720x1600px Display with Water Drop...</td>\n",
              "      <td>48MP + 2MP + Depth Sensor Triple Rear &amp; 8MP Fr...</td>\n",
              "      <td>Memory Card Supported, upto 1TB</td>\n",
              "      <td>Android v11</td>\n",
              "    </tr>\n",
              "    <tr>\n",
              "      <th>999</th>\n",
              "      <td>POCO X4 GT 5G (8GB RAM + 256GB)</td>\n",
              "      <td>28,990</td>\n",
              "      <td>85.0</td>\n",
              "      <td>Dual Sim, 3G, 4G, 5G, VoLTE, Wi-Fi, NFC, IR Bl...</td>\n",
              "      <td>Dimensity 8100, Octa Core, 2.85GHz Processor</td>\n",
              "      <td>8GB RAM, 256GB inbuilt</td>\n",
              "      <td>5080mAh Battery with 67W Fast Charging</td>\n",
              "      <td>6.6 inches, 1080x2460px, 144 Hz Display with P...</td>\n",
              "      <td>64MP + 8MP + 2MP Triple Rear &amp; 16MP Front Camera</td>\n",
              "      <td>Memory Card Not Supported</td>\n",
              "      <td>Android v12</td>\n",
              "    </tr>\n",
              "    <tr>\n",
              "      <th>1000</th>\n",
              "      <td>Motorola Moto G91 5G</td>\n",
              "      <td>19,990</td>\n",
              "      <td>80.0</td>\n",
              "      <td>Dual Sim, 3G, 4G, 5G, VoLTE, Wi-Fi, NFC</td>\n",
              "      <td>Snapdragon 695, Octa Core, 2.2GHz Processor</td>\n",
              "      <td>6GB RAM, 128GB inbuilt</td>\n",
              "      <td>5000mAh Battery with Fast Charging</td>\n",
              "      <td>6.8 inches, 1080x2400px Display with Punch Hole</td>\n",
              "      <td>108MP + 8MP + 2MP Triple Rear &amp; 32MP Front Camera</td>\n",
              "      <td>Memory Card Supported, upto 1TB</td>\n",
              "      <td>Android v12</td>\n",
              "    </tr>\n",
              "    <tr>\n",
              "      <th>1001</th>\n",
              "      <td>Samsung Galaxy M52s 5G</td>\n",
              "      <td>24,990</td>\n",
              "      <td>74.0</td>\n",
              "      <td>Dual Sim, 3G, 4G, 5G, VoLTE, Wi-Fi</td>\n",
              "      <td>Octa Core Processor</td>\n",
              "      <td>8GB RAM, 128GB inbuilt</td>\n",
              "      <td>5000mAh Battery with Fast Charging</td>\n",
              "      <td>6.5 inches, 1080x2400px Display with Water Dro...</td>\n",
              "      <td>64MP + 8MP + 5MP Triple Rear &amp; 32MP Front Camera</td>\n",
              "      <td>Memory Card Supported, upto 1TB</td>\n",
              "      <td>Android v12</td>\n",
              "    </tr>\n",
              "  </tbody>\n",
              "</table>\n",
              "<p>1002 rows × 11 columns</p>\n",
              "</div>"
            ],
            "text/plain": [
              "                                model   price  rating  \\\n",
              "0                       OnePlus 11 5G  54,999    89.0   \n",
              "1           OnePlus Nord CE 2 Lite 5G  19,989    81.0   \n",
              "2               Samsung Galaxy A14 5G  16,499    75.0   \n",
              "3                Motorola Moto G62 5G  14,999    81.0   \n",
              "4                  Realme 10 Pro Plus  24,999    82.0   \n",
              "...                               ...     ...     ...   \n",
              "997        Motorola Moto Edge S30 Pro  34,990    83.0   \n",
              "998                       Honor X8 5G  14,990    75.0   \n",
              "999   POCO X4 GT 5G (8GB RAM + 256GB)  28,990    85.0   \n",
              "1000             Motorola Moto G91 5G  19,990    80.0   \n",
              "1001           Samsung Galaxy M52s 5G  24,990    74.0   \n",
              "\n",
              "                                                    sim  \\\n",
              "0               Dual Sim, 3G, 4G, 5G, VoLTE, Wi-Fi, NFC   \n",
              "1                    Dual Sim, 3G, 4G, 5G, VoLTE, Wi-Fi   \n",
              "2                    Dual Sim, 3G, 4G, 5G, VoLTE, Wi-Fi   \n",
              "3                    Dual Sim, 3G, 4G, 5G, VoLTE, Wi-Fi   \n",
              "4                    Dual Sim, 3G, 4G, 5G, VoLTE, Wi-Fi   \n",
              "...                                                 ...   \n",
              "997                  Dual Sim, 3G, 4G, 5G, VoLTE, Wi-Fi   \n",
              "998                  Dual Sim, 3G, 4G, 5G, VoLTE, Wi-Fi   \n",
              "999   Dual Sim, 3G, 4G, 5G, VoLTE, Wi-Fi, NFC, IR Bl...   \n",
              "1000            Dual Sim, 3G, 4G, 5G, VoLTE, Wi-Fi, NFC   \n",
              "1001                 Dual Sim, 3G, 4G, 5G, VoLTE, Wi-Fi   \n",
              "\n",
              "                                           processor                      ram  \\\n",
              "0     Snapdragon 8 Gen2, Octa Core, 3.2GHz Processor  12GB RAM, 256GB inbuilt   \n",
              "1        Snapdragon 695, Octa Core, 2.2GHz Processor   6GB RAM, 128GB inbuilt   \n",
              "2           Exynos 1330, Octa Core, 2.4GHz Processor    4GB RAM, 64GB inbuilt   \n",
              "3       Snapdragon  695, Octa Core, 2.2GHz Processor   6GB RAM, 128GB inbuilt   \n",
              "4        Dimensity 1080, Octa Core, 2.6GHz Processor   6GB RAM, 128GB inbuilt   \n",
              "...                                              ...                      ...   \n",
              "997     Snapdragon 8 Gen1, Octa Core, 3GHz Processor   8GB RAM, 128GB inbuilt   \n",
              "998    Snapdragon  480+, Octa Core, 2.2GHz Processor   6GB RAM, 128GB inbuilt   \n",
              "999     Dimensity 8100, Octa Core, 2.85GHz Processor   8GB RAM, 256GB inbuilt   \n",
              "1000     Snapdragon 695, Octa Core, 2.2GHz Processor   6GB RAM, 128GB inbuilt   \n",
              "1001                             Octa Core Processor   8GB RAM, 128GB inbuilt   \n",
              "\n",
              "                                       battery  \\\n",
              "0      5000mAh Battery with 100W Fast Charging   \n",
              "1       5000mAh Battery with 33W Fast Charging   \n",
              "2       5000mAh Battery with 15W Fast Charging   \n",
              "3           5000mAh Battery with Fast Charging   \n",
              "4       5000mAh Battery with 67W Fast Charging   \n",
              "...                                        ...   \n",
              "997   5000mAh Battery with 68.2W Fast Charging   \n",
              "998   5000mAh Battery with 22.5W Fast Charging   \n",
              "999     5080mAh Battery with 67W Fast Charging   \n",
              "1000        5000mAh Battery with Fast Charging   \n",
              "1001        5000mAh Battery with Fast Charging   \n",
              "\n",
              "                                                display  \\\n",
              "0     6.7 inches, 1440x3216px, 120 Hz Display with P...   \n",
              "1     6.59 inches, 1080x2412px, 120 Hz Display with ...   \n",
              "2     6.6 inches, 1080x2408px, 90 Hz Display with Wa...   \n",
              "3     6.55 inches, 1080x2400px, 120 Hz Display with ...   \n",
              "4     6.7 inches, 1080x2412px, 120 Hz Display with P...   \n",
              "...                                                 ...   \n",
              "997   6.67 inches, 1080x2460px, 120 Hz Display with ...   \n",
              "998   6.5 inches, 720x1600px Display with Water Drop...   \n",
              "999   6.6 inches, 1080x2460px, 144 Hz Display with P...   \n",
              "1000    6.8 inches, 1080x2400px Display with Punch Hole   \n",
              "1001  6.5 inches, 1080x2400px Display with Water Dro...   \n",
              "\n",
              "                                                 camera  \\\n",
              "0     50MP + 48MP + 32MP Triple Rear & 16MP Front Ca...   \n",
              "1      64MP + 2MP + 2MP Triple Rear & 16MP Front Camera   \n",
              "2      50MP + 2MP + 2MP Triple Rear & 13MP Front Camera   \n",
              "3      50MP + 8MP + 2MP Triple Rear & 16MP Front Camera   \n",
              "4     108MP + 8MP + 2MP Triple Rear & 16MP Front Camera   \n",
              "...                                                 ...   \n",
              "997    64MP + 8MP + 2MP Triple Rear & 16MP Front Camera   \n",
              "998   48MP + 2MP + Depth Sensor Triple Rear & 8MP Fr...   \n",
              "999    64MP + 8MP + 2MP Triple Rear & 16MP Front Camera   \n",
              "1000  108MP + 8MP + 2MP Triple Rear & 32MP Front Camera   \n",
              "1001   64MP + 8MP + 5MP Triple Rear & 32MP Front Camera   \n",
              "\n",
              "                                 card           os  \n",
              "0           Memory Card Not Supported  Android v13  \n",
              "1      Memory Card (Hybrid), upto 1TB  Android v12  \n",
              "2     Memory Card Supported, upto 1TB  Android v13  \n",
              "3      Memory Card (Hybrid), upto 1TB  Android v12  \n",
              "4           Memory Card Not Supported  Android v13  \n",
              "...                               ...          ...  \n",
              "997                       Android v12  No FM Radio  \n",
              "998   Memory Card Supported, upto 1TB  Android v11  \n",
              "999         Memory Card Not Supported  Android v12  \n",
              "1000  Memory Card Supported, upto 1TB  Android v12  \n",
              "1001  Memory Card Supported, upto 1TB  Android v12  \n",
              "\n",
              "[1002 rows x 11 columns]"
            ]
          },
          "execution_count": 46,
          "metadata": {},
          "output_type": "execute_result"
        }
      ],
      "source": [
        "df.replace(\"\\?\",\"\",inplace=True,regex=True)\n",
        "df"
      ]
    },
    {
      "cell_type": "markdown",
      "metadata": {},
      "source": [
        "**Add Dummies to code**"
      ]
    },
    {
      "cell_type": "code",
      "execution_count": 47,
      "metadata": {},
      "outputs": [],
      "source": [
        "#the column battery contains some data which belongs to other columns\n",
        "battery_ram_shift=df[[\"battery\"]][(~df[\"battery\"].str.contains(\"Camera\"))&(~df[\"battery\"].str.contains(\"inches\"))&(~df[\"battery\"].str.contains(\"mAh\"))]\n",
        "battery_camera_shift=df[[\"battery\"]][(~df[\"battery\"].str.contains(\"RAM\"))&(~df[\"battery\"].str.contains(\"inches\"))&(~df[\"battery\"].str.contains(\"mAh\"))]\n",
        "battery_ram_shift.rename(columns={\"battery\":\"ram\"},inplace=True)\n",
        "battery_camera_shift.rename(columns={\"battery\":\"camera\"},inplace=True)"
      ]
    },
    {
      "cell_type": "code",
      "execution_count": 48,
      "metadata": {},
      "outputs": [],
      "source": [
        "#the column camera contains some data which belongs to other columns\n",
        "camera_memory_shift=df[[\"camera\"]][(~df[\"camera\"].str.contains(\"Camera\",regex=True))&(~df[\"camera\"].str.contains(\"Display\",regex=True))]\n",
        "camera_Display_shift=df[[\"camera\"]][(~df[\"camera\"].str.contains(\"Camera\",regex=True))&(~df[\"camera\"].str.contains(\"Memory\",regex=True))]\n",
        "camera_memory_shift.rename(columns={\"camera\":\"card\"},inplace=True)\n",
        "camera_Display_shift.rename(columns={\"camera\":\"display\"},inplace=True)"
      ]
    },
    {
      "cell_type": "code",
      "execution_count": 49,
      "metadata": {},
      "outputs": [],
      "source": [
        "#the column card contains some data which belongs to other columns\n",
        "card_os_shift=df[[\"card\"]][(~df['card'].str.contains(\"Memory\"))&(~df['card'].str.contains(\"Camera\"))&(~df['card'].str.contains(\"Display\"))]\n",
        "card_camera_shift=df[[\"card\"]][(~df['card'].str.contains(\"Memory\"))&(~df['card'].str.contains(\"Android\"))&(~df['card'].str.contains(\"Bluetooth\"))&(~df['card'].str.contains(\"OS\"))&(df['card'].str.contains(\"Camera\"))]\n",
        "card_Display_shift=df[[\"card\"]][(~df['card'].str.contains(\"Memory\"))&(df['card'].str.contains(\"Display\"))]\n",
        "card_camera_shift.rename(columns={\"card\":\"camera\"},inplace=True)\n",
        "card_Display_shift.rename(columns={\"card\":\"display\"},inplace=True)\n",
        "card_os_shift.rename(columns={\"card\":\"os\"},inplace=True)"
      ]
    },
    {
      "cell_type": "code",
      "execution_count": 50,
      "metadata": {},
      "outputs": [],
      "source": [
        "#the column display contains some data which belongs to other columns\n",
        "display_battery_shift=df[[\"display\"]][(~df['display'].str.contains(\"Display\"))&(df['display'].str.contains(\"Battery\"))]\n",
        "display_camera_shift=df[[\"display\"]][(~df['display'].str.contains(\"Display\"))&(df['display'].str.contains(\"Camera\"))]\n",
        "display_camera_shift.rename(columns={\"display\":\"camera\"},inplace=True)\n",
        "display_battery_shift.rename(columns={\"display\":\"battery\"},inplace=True)"
      ]
    },
    {
      "cell_type": "code",
      "execution_count": 51,
      "metadata": {},
      "outputs": [],
      "source": [
        "#the column os contains some data which belongs to other columns\n",
        "os_card_shift=df[[\"os\"]][df['os'].str.contains(\"Memory\")]\n",
        "os_camera_shift=df[[\"os\"]][df['os'].str.contains(\"Camera\")]\n",
        "os_camera_shift.rename(columns={\"os\":\"camera\"},inplace=True)\n",
        "os_card_shift.rename(columns={\"os\":\"card\"},inplace=True)"
      ]
    },
    {
      "cell_type": "code",
      "execution_count": 52,
      "metadata": {},
      "outputs": [],
      "source": [
        "#the column processor contains some data which belongs to other columns\n",
        "processor_sim_shift=df[[\"processor\"]][(df['processor'].str.contains(\"No\"))]\n",
        "processor_sim_shift.rename(columns={\"processor\":\"sim\"},inplace=True)"
      ]
    },
    {
      "cell_type": "code",
      "execution_count": 53,
      "metadata": {},
      "outputs": [],
      "source": [
        "#the column ram contains some data which belongs to other columns\n",
        "ram_battery_shift=df[['ram']][(~df['ram'].str.contains(\"RAM\"))&(df['ram'].str.contains(\"Battery\"))]\n",
        "ram_os_shift=df[['ram']][(~df['ram'].str.contains(\"GB\"))&(df['ram'].str.contains(\"T\"))]\n",
        "ram_display_shift=df[['ram']][(df['ram'].str.contains(\"Display\"))]\n",
        "ram_sim_shift=df[['ram']][(df['ram'].str.contains(\"No\"))]\n",
        "ram_processor_shift=df[['ram']][(df['ram'].str.contains(\"Core\"))]"
      ]
    },
    {
      "cell_type": "code",
      "execution_count": 54,
      "metadata": {},
      "outputs": [],
      "source": [
        "ram_battery_shift.rename(columns={\"ram\":\"battery\"},inplace=True)\n",
        "ram_display_shift.rename(columns={\"ram\":\"display\"},inplace=True)\n",
        "ram_os_shift.rename(columns={\"ram\":\"os\"},inplace=True)\n",
        "ram_processor_shift.rename(columns={\"ram\":\"proessor\"},inplace=True)\n",
        "ram_sim_shift.rename(columns={\"ram\":\"sim\"},inplace=True)"
      ]
    },
    {
      "cell_type": "code",
      "execution_count": 55,
      "metadata": {},
      "outputs": [],
      "source": [
        "#code for shifting the inappropriate data to their respective columns\n",
        "df.update(battery_camera_shift)\n",
        "df.update(battery_ram_shift)\n",
        "df.update(processor_sim_shift)\n",
        "df.update(ram_battery_shift)\n",
        "df.update(ram_display_shift)\n",
        "df.update(ram_os_shift)\n",
        "df.update(ram_processor_shift)\n",
        "df.update(ram_sim_shift)\n",
        "df.update(display_battery_shift)\n",
        "df.update(display_camera_shift)\n",
        "df.update(camera_Display_shift)\n",
        "df.update(camera_memory_shift)\n",
        "df.update(card_camera_shift)\n",
        "df.update(card_Display_shift)\n",
        "df.update(card_os_shift)\n",
        "df.update(os_camera_shift)\n",
        "df.update(os_card_shift)"
      ]
    },
    {
      "cell_type": "code",
      "execution_count": 56,
      "metadata": {},
      "outputs": [],
      "source": [
        "#replacing the inappropirate data with mode of that column\n",
        "df[\"battery\"]=np.where(df[\"battery\"].str.contains(\"mAh\"),df[\"battery\"],df[\"battery\"].mode())\n",
        "df[\"card\"]=np.where(df[\"card\"].str.contains(\"Memory\"),df[\"card\"],df[\"card\"].mode())\n",
        "df[\"os\"]=np.where(df[\"os\"].str.contains(\"Memory\"),df[\"os\"].mode(),df[\"os\"])\n",
        "df[\"os\"]=np.where(df[\"os\"].str.contains(\"Camera\"),df[\"os\"].mode(),df[\"os\"])\n",
        "df[\"ram\"]=np.where(df[\"ram\"].str.contains(\"Display\"),df[\"ram\"].mode(),df[\"ram\"])\n",
        "df[\"ram\"]=np.where(df[\"ram\"].str.contains(\"Battery\"),df[\"ram\"].mode(),df[\"ram\"])\n",
        "df[\"display\"]=np.where(df[\"display\"].str.contains(\"Display\"),df[\"display\"],df[\"display\"].mode())\n",
        "df[\"processor\"]=np.where(df[\"processor\"].str.contains(\"No\"),df[\"processor\"].mode(),df[\"processor\"])\n",
        "df[\"processor\"]=np.where(df[\"processor\"].str.contains(\"RAM\"),df[\"processor\"].mode(),df[\"processor\"])"
      ]
    },
    {
      "cell_type": "markdown",
      "metadata": {},
      "source": [
        "### Column Battery"
      ]
    },
    {
      "cell_type": "code",
      "execution_count": 57,
      "metadata": {},
      "outputs": [],
      "source": [
        "battery=df['battery'].str.split(\"with\",expand=True).rename(columns={0:'battery_capacity', 1:'charging_capacity'})\n",
        "battery['battery_capacity'].replace(\"mAh Battery\",\"\",inplace=True,regex=True)\n",
        "battery['battery_capacity']=battery['battery_capacity'].str.strip()"
      ]
    },
    {
      "cell_type": "code",
      "execution_count": 58,
      "metadata": {},
      "outputs": [],
      "source": [
        "battery['charging_capacity'].replace(\"W Fast Charging\",\"\",inplace=True,regex=True)\n",
        "battery['charging_capacity'].replace(\"Fast Charging\",33,inplace=True,regex=True)\n",
        "battery['charging_capacity']=battery['charging_capacity'].str.strip()"
      ]
    },
    {
      "cell_type": "code",
      "execution_count": 59,
      "metadata": {},
      "outputs": [
        {
          "data": {
            "text/plain": [
              "array(['5000', '3279', '4980', '4500', '3240', '4700', '4830', '4800',\n",
              "       '4323', '3110', '5200', '6000', '4325', '4600', '4200', '3500',\n",
              "       '3095', '4020', '3200', '4400', '4310', '4820', '3700', '5160',\n",
              "       '5080', '3900', '4410', '5020', '2800', '4352', '1450', '4520',\n",
              "       '4810', '4000', '2050', '2150', '4610', '5100', '7000', '4300',\n",
              "       '5500', '4050', '4355', '3060', '1500', '5003', '2438', '4250',\n",
              "       '3300', '4450', '4614', '4870', '4030', '4350', '4100', '21000',\n",
              "       '2000', '4860', '2275', '4230', '1900', '3020', '4730', '3520',\n",
              "       '4080', '2500', '5050', '5600', '4470', '3360', '3000', '2230',\n",
              "       '9800', '1150', '1821', '1480', '4015', '3285', '4360', '3315',\n",
              "       '1200', '3600', '3100', '22000', '2400', '1020', '4532', '1800',\n",
              "       '5065', '4620', '4780', '3730', '3400', '2730', '5180', '800',\n",
              "       '8000'], dtype=object)"
            ]
          },
          "execution_count": 59,
          "metadata": {},
          "output_type": "execute_result"
        }
      ],
      "source": [
        "battery['battery_capacity'].unique()"
      ]
    },
    {
      "cell_type": "code",
      "execution_count": 60,
      "metadata": {},
      "outputs": [
        {
          "data": {
            "text/plain": [
              "array(['100', '33', '15', nan, '67', '25', '120', '80', '18', '45', '10',\n",
              "       '66', '44', None, '210', '30', '150', '68', '50', '20', '65',\n",
              "       '180', '125', '40', '60', '200', '240', '19', '21', '135', '165',\n",
              "       '22.5', '27', '55', '68.2'], dtype=object)"
            ]
          },
          "execution_count": 60,
          "metadata": {},
          "output_type": "execute_result"
        }
      ],
      "source": [
        "battery['charging_capacity'].unique()"
      ]
    },
    {
      "cell_type": "code",
      "execution_count": 61,
      "metadata": {},
      "outputs": [],
      "source": [
        "battery['charging_capacity'].fillna(33,inplace=True)"
      ]
    },
    {
      "cell_type": "markdown",
      "metadata": {},
      "source": [
        "### Column Camera"
      ]
    },
    {
      "cell_type": "code",
      "execution_count": 62,
      "metadata": {},
      "outputs": [],
      "source": [
        "camera=df['camera'].str.split(\"&\",expand=True).rename(columns={0:'Rear Camera', 1:'Front Camera'})\n",
        "frontCam=camera['Front Camera'].str.split(\"+\",expand=True).rename(columns={0:'Main Camera', 1:'Additional Camera'})\n",
        "frontCam['Main Camera'].replace(\"Front Camera\",\"\",inplace=True,regex=True)\n",
        "frontCam['Main Camera'].replace({\"MP\":\"\",\"Dual\":\"\",\"Main\":16},inplace=True,regex=True)"
      ]
    },
    {
      "cell_type": "code",
      "execution_count": 63,
      "metadata": {},
      "outputs": [],
      "source": [
        "frontCam['Main Camera']=frontCam['Main Camera'].str.strip()\n",
        "camera['Front Camera']=frontCam['Main Camera']\n",
        "camera['Rear Camera'].replace({\"Triple Rear\":\"\",\"MP\":\"\"},regex=True,inplace=True)\n",
        "Rear_Camera=camera['Rear Camera'].str.split(\"+\",expand=True).rename(columns={0:'Primary Camera', 1:'Secondary Camera', 2:'Additional Camera'})"
      ]
    },
    {
      "cell_type": "code",
      "execution_count": 64,
      "metadata": {},
      "outputs": [
        {
          "data": {
            "text/plain": [
              "array(['50 ', '64 ', '108 ', '12 ', '200 ', '200 Quad Rear ', '13 ',\n",
              "       '48 ', '108 Quad Rear ', '50 Quad Rear ', '13 Rear ',\n",
              "       '64 Quad Rear ', '8 Rear ', '13 Dual Rear ', '48 Quad Rear ',\n",
              "       '50.3 Quad Rear ', '50.3 ', '8 Dual Rear ', '12.2 ', '5 Rear ',\n",
              "       '5 Rear Camera', '50 Dual Rear ', '8 ', '12 Rear ',\n",
              "       '200 Penta Rear ', '2 Rear Camera', '54 ', '16 ',\n",
              "       '0.3 Rear Camera', '2 Rear ', '48  ', '12 Quad Rear ', '20 ',\n",
              "       '12.2 Rear ', '1.3 Rear Camera', 'No Rear Camera', '16 Rear ',\n",
              "       '13 Quad Rear ', '5 ', '20 Rear ', '47.2 ', '40 Quad Rear ',\n",
              "       '48 Quad Rear Camera', '24 '], dtype=object)"
            ]
          },
          "execution_count": 64,
          "metadata": {},
          "output_type": "execute_result"
        }
      ],
      "source": [
        "Rear_Camera['Primary Camera'].unique()"
      ]
    },
    {
      "cell_type": "code",
      "execution_count": 65,
      "metadata": {},
      "outputs": [],
      "source": [
        "Rear_Camera['Primary Camera'].replace({\"Quad Rear\":\"\",\"Rear\":\"\",\"Rear Camera\":\"\"},regex=True,inplace=True)\n",
        "Rear_Camera['Primary Camera'].replace({\"Dual\":\"\",\"Camera\":\"\",\"Penta\":\"\",\"No\":0},regex=True,inplace=True)\n",
        "Rear_Camera['Primary Camera']=Rear_Camera['Primary Camera'].str.strip()"
      ]
    },
    {
      "cell_type": "code",
      "execution_count": 66,
      "metadata": {},
      "outputs": [
        {
          "data": {
            "text/plain": [
              "array([' 48 ', ' 2 ', ' 8 ', ' 12 Dual Rear ', ' 50 Dual Rear ',\n",
              "       ' 2 Dual Rear ', None, ' 12 ', ' 13 ', ' 0.3 Dual Rear ',\n",
              "       ' 8 Dual Rear ', ' 10 ', ' 50 ', ' 5 ', ' Depth Sensor Dual Rear ',\n",
              "       ' 2  ', ' 5 Dual Rear ', ' 16 ', ' 12.2 Dual Rear ',\n",
              "       ' Depth Sensor ', ' 20 ', ' 50  ', ' 16 Dual Rear ', ' 64 ',\n",
              "       ' 13 Dual Rear ', ' 0.08 Dual Rear ', ' 1.9 Dual Rear ', ' 3 ',\n",
              "       ' 12.2 '], dtype=object)"
            ]
          },
          "execution_count": 66,
          "metadata": {},
          "output_type": "execute_result"
        }
      ],
      "source": [
        "Rear_Camera['Secondary Camera'].unique()"
      ]
    },
    {
      "cell_type": "code",
      "execution_count": 67,
      "metadata": {},
      "outputs": [
        {
          "data": {
            "text/plain": [
              "array([' 48 ', ' 2 ', ' 8 ', ' 12  ', ' 50  ', ' 2  ', None, ' 12 ',\n",
              "       ' 13 ', ' 0.3  ', ' 8  ', ' 10 ', ' 50 ', ' 5 ', '   ', ' 5  ',\n",
              "       ' 16 ', ' 12.2  ', '  ', ' 20 ', ' 16  ', ' 64 ', ' 13  ',\n",
              "       ' 0.08  ', ' 1.9  ', ' 3 ', ' 12.2 '], dtype=object)"
            ]
          },
          "execution_count": 67,
          "metadata": {},
          "output_type": "execute_result"
        }
      ],
      "source": [
        "Rear_Camera['Secondary Camera'].replace({\"Dual Rear\":\"\",\"Depth Sensor\":\"\",\"None\":\"0\",\"\":\"0\"},regex=True,inplace=True)\n",
        "Rear_Camera['Secondary Camera'].unique()"
      ]
    },
    {
      "cell_type": "code",
      "execution_count": 68,
      "metadata": {},
      "outputs": [],
      "source": [
        "Rear_Camera['Secondary Camera']=Rear_Camera['Secondary Camera'].str.strip()"
      ]
    },
    {
      "cell_type": "code",
      "execution_count": 69,
      "metadata": {},
      "outputs": [
        {
          "data": {
            "text/plain": [
              "array([' 32  ', ' 2  ', None, ' 8  ', ' 12  ', ' 10  ', ' 50  ', ' 5  ',\n",
              "       ' 0.3  ', ' 13  ', ' Ultra Wide  ', ' 48  ', ' 12  Camera',\n",
              "       ' 64  ', ' 16  ', ' 12.2  ', ' Depth Sensor  '], dtype=object)"
            ]
          },
          "execution_count": 69,
          "metadata": {},
          "output_type": "execute_result"
        }
      ],
      "source": [
        "Rear_Camera['Additional Camera'].unique()"
      ]
    },
    {
      "cell_type": "code",
      "execution_count": 70,
      "metadata": {},
      "outputs": [
        {
          "data": {
            "text/plain": [
              "0     2  \n",
              "Name: Additional Camera, dtype: object"
            ]
          },
          "execution_count": 70,
          "metadata": {},
          "output_type": "execute_result"
        }
      ],
      "source": [
        "Rear_Camera['Additional Camera'].mode()"
      ]
    },
    {
      "cell_type": "code",
      "execution_count": 71,
      "metadata": {},
      "outputs": [],
      "source": [
        "Rear_Camera['Additional Camera'].replace({\"Ultra Wide\":2,\"Depth Sensor\":2,\"Camera\":\"\"},regex=True,inplace=True)\n",
        "Rear_Camera['Additional Camera']=Rear_Camera['Additional Camera'].str.strip()"
      ]
    },
    {
      "cell_type": "markdown",
      "metadata": {},
      "source": [
        "### Column Card"
      ]
    },
    {
      "cell_type": "code",
      "execution_count": 72,
      "metadata": {},
      "outputs": [],
      "source": [
        "storage=df['card'].str.split(\",\",expand=True).rename(columns={0:\"type\",1:\"upto\"})"
      ]
    },
    {
      "cell_type": "code",
      "execution_count": 73,
      "metadata": {},
      "outputs": [
        {
          "data": {
            "text/plain": [
              "type\n",
              "Memory Card Supported        716\n",
              "Memory Card (Hybrid)         157\n",
              "Memory Card Not Supported    129\n",
              "Name: count, dtype: int64"
            ]
          },
          "execution_count": 73,
          "metadata": {},
          "output_type": "execute_result"
        }
      ],
      "source": [
        "storage['type'].value_counts()"
      ]
    },
    {
      "cell_type": "code",
      "execution_count": 74,
      "metadata": {},
      "outputs": [
        {
          "data": {
            "text/plain": [
              "array([None, ' upto 1TB', ' upto 512GB', ' upto 256GB', ' upto 2TB',\n",
              "       ' upto 128GB', ' upto 32GB', ' upto 64GB', ' upto 1000GB',\n",
              "       ' upto 16GB', ' upto 48GB'], dtype=object)"
            ]
          },
          "execution_count": 74,
          "metadata": {},
          "output_type": "execute_result"
        }
      ],
      "source": [
        "storage[\"upto\"].unique()"
      ]
    },
    {
      "cell_type": "code",
      "execution_count": 75,
      "metadata": {},
      "outputs": [],
      "source": [
        "storage['upto']=np.where(storage['type'].str.contains(\"Memory Card Not Supported\"),\"1\",storage['upto'])\n",
        "storage['upto']=np.where((storage['type'].str.contains(\"Memory Card Supported\")&(storage['upto'].isnull())),'512',storage['upto'])\n",
        "storage[\"upto\"].fillna('512',inplace=True)\n",
        "storage[\"upto\"].replace({\"TB\":\"1000\",\"GB\":\"\",\"upto\":\"\"},regex=True,inplace=True)\n",
        "storage[\"upto\"]=storage[\"upto\"].str.strip()"
      ]
    },
    {
      "cell_type": "code",
      "execution_count": 76,
      "metadata": {},
      "outputs": [],
      "source": [
        "df[\"card\"]=storage['upto']"
      ]
    },
    {
      "cell_type": "markdown",
      "metadata": {},
      "source": [
        "### Column Display"
      ]
    },
    {
      "cell_type": "code",
      "execution_count": 77,
      "metadata": {},
      "outputs": [],
      "source": [
        "display=df['display'].str.split(\",\",expand=True).rename(columns={0:\"inches\",1:\"pixel\",2:\"display Hz\"})\n",
        "display[\"inches\"].replace(\"inches\",\"\",inplace=True,regex=True)"
      ]
    },
    {
      "cell_type": "code",
      "execution_count": 78,
      "metadata": {},
      "outputs": [
        {
          "data": {
            "text/plain": [
              "array(['6.7 ', '6.59 ', '6.6 ', '6.55 ', '6.1 ', '6.67 ', '6.43 ',\n",
              "       '6.72 ', '6.56 ', '6.58 ', '6.8 ', '6.51 ', '6.5 ', '6.44 ',\n",
              "       '6.4 ', '6.78 ', 'Foldable Display', '6.26 ', '6.53 ', '6.73 ',\n",
              "       '6.52 ', '6.14 ', '6.47 ', '6.62 ', '5 ', '6.68 ', 'Dual Display',\n",
              "       '6.54 ', '4.7 ', '3.54 ', '6.9 ', '6.82 ', '6.95 ', '6.3 ',\n",
              "       '6.71 ', '5.4 ', '5.42 ', '6.36 ', '6 ', '6.81 ', '5.45 ', '6.2 ',\n",
              "       '6.83 ', '5.7 ', '2.4 ', '6.49 ', '5.9 ', '7.92 ', '6.18 ', '4.5 ',\n",
              "       '5.5 ', '6.74 ', '2.8 ', '6.35 ', '6.66 ', '6.64 ', '6.28 ',\n",
              "       '6.92 ', '1.8 ', '6.76 ', '6.57 ', '6.91 ', '6.38 ', '6.06 ', '7 ',\n",
              "       '6.39 ', '6.22 ', '5.3 ', '5.84 ', '6.34 ', '6.09 ', '5.2 ',\n",
              "       '6.75 ', '5.86 '], dtype=object)"
            ]
          },
          "execution_count": 78,
          "metadata": {},
          "output_type": "execute_result"
        }
      ],
      "source": [
        "display[\"inches\"].unique()"
      ]
    },
    {
      "cell_type": "code",
      "execution_count": 79,
      "metadata": {},
      "outputs": [],
      "source": [
        "display[\"inches\"]=np.where(display[\"inches\"].str.contains(\"Display\"),display[\"inches\"].mode(),display[\"inches\"])\n",
        "display[\"inches\"]=display[\"inches\"].str.strip()"
      ]
    },
    {
      "cell_type": "code",
      "execution_count": 80,
      "metadata": {},
      "outputs": [
        {
          "data": {
            "text/plain": [
              "15"
            ]
          },
          "execution_count": 80,
          "metadata": {},
          "output_type": "execute_result"
        }
      ],
      "source": [
        "display['pixel'].isnull().sum()"
      ]
    },
    {
      "cell_type": "code",
      "execution_count": 81,
      "metadata": {},
      "outputs": [
        {
          "data": {
            "text/plain": [
              "0     1080x2400px\n",
              "Name: pixel, dtype: object"
            ]
          },
          "execution_count": 81,
          "metadata": {},
          "output_type": "execute_result"
        }
      ],
      "source": [
        "display['pixel'].mode()"
      ]
    },
    {
      "cell_type": "code",
      "execution_count": 82,
      "metadata": {},
      "outputs": [],
      "source": [
        "display['pixel'].fillna(\"1080x2400px\",inplace=True)"
      ]
    },
    {
      "cell_type": "code",
      "execution_count": 83,
      "metadata": {},
      "outputs": [
        {
          "data": {
            "text/plain": [
              "pixel\n",
              " 720x1600px Display with Water Drop Notch     108\n",
              " 1080x2400px Display with Punch Hole           50\n",
              " 1080x2408px Display with Water Drop Notch     20\n",
              " 1080x2340px Display with Water Drop Notch     16\n",
              " Dual Display                                  15\n",
              "                                             ... \n",
              " 640x960px Display                              1\n",
              " 720x1600px Display with Small Notch            1\n",
              " 750x1334px Display with Large Notch            1\n",
              " 720x1600px Display with Large Notch            1\n",
              " 720x1520px Display with Large Notch            1\n",
              "Name: count, Length: 72, dtype: int64"
            ]
          },
          "execution_count": 83,
          "metadata": {},
          "output_type": "execute_result"
        }
      ],
      "source": [
        "display['pixel'][display['pixel'].str.contains(\"Display\")].value_counts()"
      ]
    },
    {
      "cell_type": "code",
      "execution_count": 84,
      "metadata": {},
      "outputs": [
        {
          "data": {
            "text/plain": [
              "396"
            ]
          },
          "execution_count": 84,
          "metadata": {},
          "output_type": "execute_result"
        }
      ],
      "source": [
        "display['pixel'].replace({\"Display with Water Drop Notch\":\"\",\"Display with Punch Hole\":\"\",\"Display with Small Notch\":\"\"},inplace=True,regex=True)\n",
        "display['pixel'].replace({\"Display with Large Notch\":\"\",\"Dual Display\":\"\",\"Display\":\"\"},inplace=True,regex=True)\n",
        "display['pixel'].replace({\"px\":\"\"},inplace=True,regex=True)\n",
        "display['pixel']=display['pixel'].str.strip()\n",
        "display['display Hz'].isnull().sum()"
      ]
    },
    {
      "cell_type": "code",
      "execution_count": 85,
      "metadata": {},
      "outputs": [
        {
          "data": {
            "text/plain": [
              "display Hz\n",
              " 120 Hz Display with Punch Hole          286\n",
              " 90 Hz Display with Punch Hole           129\n",
              " 90 Hz Display with Water Drop Notch      78\n",
              " 144 Hz Display with Punch Hole           33\n",
              " 120 Hz Display with Water Drop Notch     28\n",
              " 120 Hz Display                           19\n",
              " 165 Hz Display                            7\n",
              " 120 Hz Display with Small Notch           5\n",
              " 144 Hz Display                            5\n",
              " 90 Hz Display with Small Notch            4\n",
              " 90 Hz Display with Dual Punch Hole        4\n",
              " 120 Hz Display with Large Notch           3\n",
              " 90 Hz Display                             2\n",
              " 165 Hz Display with Punch Hole            1\n",
              " 144 Hz Display with Water Drop Notch      1\n",
              " 240 Hz Display with Punch Hole            1\n",
              "Name: count, dtype: int64"
            ]
          },
          "execution_count": 85,
          "metadata": {},
          "output_type": "execute_result"
        }
      ],
      "source": [
        "display['display Hz'].value_counts()"
      ]
    },
    {
      "cell_type": "code",
      "execution_count": 86,
      "metadata": {},
      "outputs": [],
      "source": [
        "display['display Hz'].replace({\"Display with Water Drop Notch\":\"\",\"Display with Punch Hole\":\"\",\"Display with Small Notch\":\"\"},inplace=True,regex=True)\n",
        "display['display Hz'].replace({\"Display with Large Notch\":\"\",\"Dual Display\":\"\",\"Display\":\"\"},inplace=True,regex=True)\n",
        "display['display Hz'].replace({\"Hz\":\"\",\"with Dual Punch Hole\":\"\"},inplace=True,regex=True)"
      ]
    },
    {
      "cell_type": "code",
      "execution_count": 87,
      "metadata": {},
      "outputs": [
        {
          "data": {
            "text/plain": [
              "0     120  \n",
              "Name: display Hz, dtype: object"
            ]
          },
          "execution_count": 87,
          "metadata": {},
          "output_type": "execute_result"
        }
      ],
      "source": [
        "display['display Hz'].mode()"
      ]
    },
    {
      "cell_type": "code",
      "execution_count": 88,
      "metadata": {},
      "outputs": [],
      "source": [
        "display['display Hz'].fillna(\"120\",inplace=True)\n",
        "display['display Hz']=display['display Hz'].str.strip()"
      ]
    },
    {
      "cell_type": "markdown",
      "metadata": {},
      "source": [
        "### Column Model"
      ]
    },
    {
      "cell_type": "code",
      "execution_count": 89,
      "metadata": {},
      "outputs": [
        {
          "data": {
            "text/plain": [
              "model\n",
              "OnePlus 11 5G                1\n",
              "Motorola One Fusion Plus     1\n",
              "Xiaomi Redmi Note 11E 5G     1\n",
              "Honor Magic 4 Pro Plus 5G    1\n",
              "Tecno Spark 9T               1\n",
              "                            ..\n",
              "OnePlus 9 Pro                1\n",
              "Xiaomi Redmi Note 11S        1\n",
              "Xiaomi Redmi 9 Activ         1\n",
              "Tecno Camon 19 Pro 5G        1\n",
              "Samsung Galaxy M52s 5G       1\n",
              "Name: count, Length: 1002, dtype: int64"
            ]
          },
          "execution_count": 89,
          "metadata": {},
          "output_type": "execute_result"
        }
      ],
      "source": [
        "df['model'].value_counts()"
      ]
    },
    {
      "cell_type": "code",
      "execution_count": 90,
      "metadata": {},
      "outputs": [],
      "source": [
        "df['model']=np.where(df['model'].str.contains(\"OnePlus\"),'OnePlus',df['model'])\n",
        "df['model']=np.where(df['model'].str.contains(\"Honor\"),'Honor',df['model'])\n",
        "df['model']=np.where(df['model'].str.contains(\"Xiaomi\"),'Xiaomi',df['model'])\n",
        "df['model']=np.where(df['model'].str.contains(\"Oppo\"),'Oppo',df['model'])\n",
        "df['model']=np.where(df['model'].str.contains(\"LG\"),'LG',df['model'])\n",
        "df['model']=np.where(df['model'].str.contains(\"Motorola\"),'Motorola',df['model'])\n",
        "df['model']=np.where(df['model'].str.contains(\"Tecno\"),'Tecno',df['model'])\n",
        "df['model']=np.where(df['model'].str.contains(\"Samsung\"),'Samsung',df['model'])\n",
        "df['model']=np.where(df['model'].str.contains(\"POCO\"),'POCO',df['model'])\n",
        "df['model']=np.where(df['model'].str.contains(\"Vivo\"),'Vivo',df['model'])\n",
        "df['model']=np.where(df['model'].str.contains(\"Poco\"),'POCO',df['model'])\n",
        "df['model']=np.where(df['model'].str.contains(\"Apple\"),'Apple',df['model'])\n",
        "df['model']=np.where(df['model'].str.contains(\"Nothing\"),'Nothing',df['model'])\n",
        "df['model']=np.where(df['model'].str.contains(\"Realme\"),'Realme',df['model'])\n",
        "df['model']=np.where(df['model'].str.contains(\"OPPO\"),'Oppo',df['model'])\n",
        "df['model']=np.where(df['model'].str.contains(\"POCO\"),'POCO',df['model'])\n",
        "df['model']=np.where(df['model'].str.contains(\"iQOO\"),'iQOO',df['model'])\n",
        "df['model']=np.where(df['model'].str.contains(\"Gionee\"),'Gionee',df['model'])\n",
        "df['model']=np.where(df['model'].str.contains(\"Nokia\"),'Nokia',df['model'])\n",
        "df['model']=np.where(df['model'].str.contains(\"Google\"),'Google',df['model'])\n",
        "df['model']=np.where(df['model'].str.contains(\"Huawei\"),'Huawei',df['model'])\n",
        "df['model']=np.where(df['model'].str.contains(\"Lenovo\"),'Lenovo',df['model'])\n",
        "df['model']=np.where(df['model'].str.contains(\"Infinix\"),'Infinix',df['model'])\n",
        "df['model']=np.where(df['model'].str.contains(\"Sony\"),'Sony',df['model'])\n",
        "df['model']=np.where(df['model'].str.contains(\"Lava\"),'Lava',df['model'])\n",
        "df['model']=np.where(df['model'].str.contains(\"Micromax\"),'Micromax',df['model'])\n",
        "df['model']=np.where(df['model'].str.contains(\"Asus\"),'Asus',df['model'])\n",
        "df['model']=np.where(df['model'].str.contains(\"Doogee\"),'Doogee',df['model'])\n",
        "df['model']=np.where(df['model'].str.contains(\"Nubia\"),'Nubia',df['model'])\n",
        "df['model']=np.where(df['model'].str.contains(\"Redmi\"),'Redmi',df['model'])\n",
        "df['model']=np.where(df['model'].str.contains(\"Jio\"),'Jio',df['model'])\n",
        "df['model']=np.where(df['model'].str.contains(\"itel\"),'itel',df['model'])\n",
        "df['model']=np.where(df['model'].str.contains(\"iKall\"),'iKall',df['model'])\n",
        "df['model']=np.where(df['model'].str.contains(\"Lyf\"),'Lyf',df['model'])\n",
        "df['model']=np.where(df['model'].str.contains(\"Itel\"),'itel',df['model'])\n",
        "df['model']=np.where(df['model'].str.contains(\"ZTE\"),'ZTE',df['model'])\n",
        "df['model']=np.where(df['model'].str.contains(\"Letv\"),'Letv',df['model'])"
      ]
    },
    {
      "cell_type": "code",
      "execution_count": 91,
      "metadata": {},
      "outputs": [
        {
          "data": {
            "text/plain": [
              "array(['OnePlus', 'Samsung', 'Motorola', 'Realme', 'Apple', 'Xiaomi',\n",
              "       'Nothing', 'Oppo', 'Vivo', 'POCO', 'iQOO', 'Jio', 'Gionee',\n",
              "       'Tecno', 'Tesla Pi Phone', 'Google', 'Infinix', 'Nokia',\n",
              "       'Cola Phone', 'Letv', 'iKall', 'LeEco S1 Pro', 'Duoqin F22 Pro',\n",
              "       'Lava', 'Honor', 'Nubia', 'Redmi', 'Asus', 'itel',\n",
              "       'Royole FlexPai 2', 'Sony', 'Vertu Signature Touch', 'BLU F91 5G',\n",
              "       'Lyf', 'Huawei', 'ZTE', 'Lenovo', 'LG', 'Eunity U1 5605N',\n",
              "       'Micromax', 'Leitz Phone 2', 'CAT S22 Flip', 'DIZO Star 500',\n",
              "       'BlackZone Ultra 4G', 'Doogee', 'Royole FlexPai 3 5G', 'TCL Ion X',\n",
              "       'Sharp Aquos R5G', 'Blackview BV5200 Pro', 'XTouch F40 Flip'],\n",
              "      dtype=object)"
            ]
          },
          "execution_count": 91,
          "metadata": {},
          "output_type": "execute_result"
        }
      ],
      "source": [
        "df[\"model\"].unique()"
      ]
    },
    {
      "cell_type": "markdown",
      "metadata": {},
      "source": [
        "### Column Os"
      ]
    },
    {
      "cell_type": "code",
      "execution_count": 92,
      "metadata": {},
      "outputs": [
        {
          "data": {
            "text/plain": [
              "array(['Android v13', 'Android v12', 'iOS v16', 'iOS v15', 'Android v11',\n",
              "       'Android v10', 'iOS v13', 'HarmonyOS v2', 'iOS v15.0', 'iOS v14',\n",
              "       'Android v10.0', 'Android v8.1 (Oreo)', 'iOS v13.0',\n",
              "       'Android v11.0', 'Android v9.0 (Pie)', 'Android v12.1',\n",
              "       'iOS v12.3', 'Unisoc T107', 'KAI OS', 'iOS v17',\n",
              "       'Android v4.4.2 (KitKat)', 'Android v5.1 (Lollipop)',\n",
              "       'Android v5.1.1 (Lollipop)', 'Hongmeng OS v3.0', 'Bluetooth',\n",
              "       'Android v8.0 (Oreo)', 'T117', 'Android v6.0 (Marshmallow)',\n",
              "       'Pragati OS (Powered by Android)', 'iOS v10', 'RTOS (Series 30+)',\n",
              "       'iOS v14.0', 'Harmony v2.0', 'Nucleus', 'Hongmeng OS v4.0',\n",
              "       'HarmonyOS v2.0', 'EMUI v12', 'HarmonyOS', 'Android v7.1 (Nougat)',\n",
              "       'Android', 'Android v9 (Pie)'], dtype=object)"
            ]
          },
          "execution_count": 92,
          "metadata": {},
          "output_type": "execute_result"
        }
      ],
      "source": [
        "df['os'].unique()"
      ]
    },
    {
      "cell_type": "code",
      "execution_count": 93,
      "metadata": {},
      "outputs": [],
      "source": [
        "df['os']=np.where(df['os'].str.contains(\"Android\"),'Android',df['os'])\n",
        "df['os']=np.where(df['os'].str.contains(\"iOS\"),'iOS',df['os'])\n",
        "df['os']=np.where(df['os'].str.contains(\"HarmonyOS\"),'Harmony',df['os'])\n",
        "df['os']=np.where(df['os'].str.contains(\"Hongmeng\"),'Hongmeng',df['os'])\n",
        "df['os']=np.where(df['os'].str.contains(\"Harmony\"),'Harmony',df['os'])"
      ]
    },
    {
      "cell_type": "markdown",
      "metadata": {},
      "source": [
        "### Column price"
      ]
    },
    {
      "cell_type": "code",
      "execution_count": 94,
      "metadata": {},
      "outputs": [],
      "source": [
        "df['price'].replace(\",\",\"\",regex=True,inplace=True)"
      ]
    },
    {
      "cell_type": "markdown",
      "metadata": {},
      "source": [
        "### Column ram"
      ]
    },
    {
      "cell_type": "code",
      "execution_count": 95,
      "metadata": {},
      "outputs": [
        {
          "data": {
            "text/plain": [
              "array(['12GB RAM', '6GB RAM', '4GB RAM', '8GB RAM', '3GB RAM', '16GB RAM',\n",
              "       '2GB RAM', '512MB RAM', '18GB RAM', '48MB RAM', '1GB RAM',\n",
              "       '64GB inbuilt', '512GB inbuilt', '64MB RAM', '32MB RAM', '8MB RAM',\n",
              "       '4MB inbuilt'], dtype=object)"
            ]
          },
          "execution_count": 95,
          "metadata": {},
          "output_type": "execute_result"
        }
      ],
      "source": [
        "ram=df[\"ram\"].str.split(\",\",expand=True).rename(columns={0:\"RAM\",1:\"inbuilt\"})\n",
        "ram['RAM'].unique()"
      ]
    },
    {
      "cell_type": "code",
      "execution_count": 96,
      "metadata": {},
      "outputs": [
        {
          "data": {
            "text/plain": [
              "array([' 256GB inbuilt', ' 128GB inbuilt', ' 64GB inbuilt',\n",
              "       ' 32GB inbuilt', ' 512GB inbuilt', ' 512MB inbuilt',\n",
              "       ' 4GB inbuilt', ' 1TB inbuilt', ' 128MB inbuilt', ' 16GB inbuilt',\n",
              "       None, ' 8GB inbuilt', ' 32MB inbuilt', ' 16MB inbuilt',\n",
              "       ' 48MB inbuilt'], dtype=object)"
            ]
          },
          "execution_count": 96,
          "metadata": {},
          "output_type": "execute_result"
        }
      ],
      "source": [
        "ram['inbuilt'].unique()"
      ]
    },
    {
      "cell_type": "code",
      "execution_count": 97,
      "metadata": {},
      "outputs": [
        {
          "data": {
            "text/plain": [
              "4"
            ]
          },
          "execution_count": 97,
          "metadata": {},
          "output_type": "execute_result"
        }
      ],
      "source": [
        "ram['inbuilt'].isnull().sum()"
      ]
    },
    {
      "cell_type": "code",
      "execution_count": 98,
      "metadata": {},
      "outputs": [],
      "source": [
        "ram['inbuilt']=np.where(ram['RAM'].str.contains(\"inbuilt\"),ram['RAM'],ram['inbuilt'])"
      ]
    },
    {
      "cell_type": "code",
      "execution_count": 99,
      "metadata": {},
      "outputs": [
        {
          "data": {
            "text/plain": [
              "0    8GB RAM\n",
              "Name: RAM, dtype: object"
            ]
          },
          "execution_count": 99,
          "metadata": {},
          "output_type": "execute_result"
        }
      ],
      "source": [
        "ram['RAM'].mode()"
      ]
    },
    {
      "cell_type": "code",
      "execution_count": 100,
      "metadata": {},
      "outputs": [],
      "source": [
        "ram['RAM']=np.where(ram['RAM'].str.contains(\"inbuilt\"),\"8GB RAM\",ram['RAM'])\n",
        "ram['RAM']=np.where(ram['RAM'].str.contains(\"MB\"),\"1GB\",ram['RAM'])\n",
        "ram['RAM'].replace({\"RAM\":\"\",\"MB\":\"\",\"GB\":\"\"},regex=True,inplace=True)\n",
        "ram['inbuilt']=np.where(ram['inbuilt'].str.contains(\"MB\"),\"1GB\",ram['inbuilt'])\n",
        "ram['inbuilt'].replace({\"inbuilt\":\"\",\"TB\":\"1000\",\"GB\":\"\"},regex=True,inplace=True)"
      ]
    },
    {
      "cell_type": "code",
      "execution_count": 101,
      "metadata": {},
      "outputs": [],
      "source": [
        "ram['inbuilt']=ram['inbuilt'].str.strip()\n",
        "ram['RAM']=ram['RAM'].str.strip()"
      ]
    },
    {
      "cell_type": "code",
      "execution_count": 102,
      "metadata": {},
      "outputs": [],
      "source": [
        "df.drop(columns=\"sim\",inplace=True)"
      ]
    },
    {
      "cell_type": "markdown",
      "metadata": {},
      "source": [
        "### Column Processor"
      ]
    },
    {
      "cell_type": "code",
      "execution_count": 103,
      "metadata": {},
      "outputs": [
        {
          "data": {
            "text/plain": [
              "type\n",
              "Dimensity 700 5G      39\n",
              "Helio P35             28\n",
              "Snapdragon 8+ Gen1    26\n",
              "Snapdragon 8 Gen2     23\n",
              "Snapdragon 695        23\n",
              "                      ..\n",
              "Tiger T606             1\n",
              "Snapdragon 615         1\n",
              "Helio MT6580           1\n",
              "Helio  G95             1\n",
              "Google  Tensor 3       1\n",
              "Name: count, Length: 255, dtype: int64"
            ]
          },
          "execution_count": 103,
          "metadata": {},
          "output_type": "execute_result"
        }
      ],
      "source": [
        "processor=df[\"processor\"].str.split(\",\",expand=True).rename(columns={0:\"type\",1:\"core\",2:\"processor Hz\"})\n",
        "processor['type'].value_counts()"
      ]
    },
    {
      "cell_type": "code",
      "execution_count": 104,
      "metadata": {},
      "outputs": [],
      "source": [
        "processor['type']=np.where(processor['type'].str.contains(\"Dimensity\"),\"Dimensity\",processor['type'])\n",
        "processor['type']=np.where(processor['type'].str.contains(\"Snapdragon\"),\"Snapdragon\",processor['type'])\n",
        "processor['type']=np.where(processor['type'].str.contains(\"Helio\"),\"Helio\",processor['type'])\n",
        "processor['type']=np.where(processor['type'].str.contains(\"Tiger\"),\"Tiger\",processor['type'])\n",
        "processor['type']=np.where(processor['type'].str.contains(\"Unisoc\"),\"Unisoc\",processor['type'])\n",
        "processor['type']=np.where(processor['type'].str.contains(\"Sanpdragon\"),\"Snapdragon\",processor['type'])\n",
        "processor['type']=np.where(processor['type'].str.contains(\"Bionic\"),\"Bionic\",processor['type'])\n",
        "processor['type']=np.where(processor['type'].str.contains(\"Google\"),\"Google\",processor['type'])\n",
        "processor['type']=np.where(processor['type'].str.contains(\"Apple\"),\"Apple\",processor['type'])\n",
        "processor['type']=np.where(processor['type'].str.contains(\"Exynos\"),\"Exynos\",processor['type'])\n",
        "processor['type']=np.where(processor['type'].str.contains(\"Fusion\"),\"Fusion\",processor['type'])\n",
        "processor['type']=np.where(processor['type'].str.contains(\"Spreadtrum\"),\"Spreadtrum\",processor['type'])\n",
        "processor['type']=np.where(processor['type'].str.contains(\"Kirin\"),\"Kirin\",processor['type'])\n"
      ]
    },
    {
      "cell_type": "code",
      "execution_count": 105,
      "metadata": {},
      "outputs": [
        {
          "data": {
            "text/plain": [
              "20"
            ]
          },
          "execution_count": 105,
          "metadata": {},
          "output_type": "execute_result"
        }
      ],
      "source": [
        "processor['core'].isnull().sum()"
      ]
    },
    {
      "cell_type": "code",
      "execution_count": 106,
      "metadata": {},
      "outputs": [
        {
          "data": {
            "text/plain": [
              "(22,)"
            ]
          },
          "execution_count": 106,
          "metadata": {},
          "output_type": "execute_result"
        }
      ],
      "source": [
        "processor['type'][processor['type'].str.contains(\"Core\")].shape"
      ]
    },
    {
      "cell_type": "code",
      "execution_count": 107,
      "metadata": {},
      "outputs": [
        {
          "data": {
            "text/plain": [
              "0     Octa Core\n",
              "Name: core, dtype: object"
            ]
          },
          "execution_count": 107,
          "metadata": {},
          "output_type": "execute_result"
        }
      ],
      "source": [
        "processor['core']=np.where(processor['type'].str.contains(\"Core\"),processor['type'],processor['core'])\n",
        "processor['core'].mode()"
      ]
    },
    {
      "cell_type": "code",
      "execution_count": 108,
      "metadata": {},
      "outputs": [],
      "source": [
        "processor['core'].fillna(\"Octa Core\",inplace=True)"
      ]
    },
    {
      "cell_type": "code",
      "execution_count": 109,
      "metadata": {},
      "outputs": [],
      "source": [
        "processor['type']=np.where(processor['type'].str.contains(\"Core\"),\"Snapdragon\",processor['type'])\n",
        "processor['core'].replace({\"Core\":\"\",\"Processor\":\"\"},inplace=True,regex=True)\n",
        "processor['core']=processor['core'].str.strip()"
      ]
    },
    {
      "cell_type": "code",
      "execution_count": 110,
      "metadata": {},
      "outputs": [
        {
          "data": {
            "text/plain": [
              "61"
            ]
          },
          "execution_count": 110,
          "metadata": {},
          "output_type": "execute_result"
        }
      ],
      "source": [
        "processor['processor Hz'].isnull().sum()"
      ]
    },
    {
      "cell_type": "code",
      "execution_count": 111,
      "metadata": {},
      "outputs": [
        {
          "data": {
            "text/plain": [
              "0     2.2GHz Processor\n",
              "Name: processor Hz, dtype: object"
            ]
          },
          "execution_count": 111,
          "metadata": {},
          "output_type": "execute_result"
        }
      ],
      "source": [
        "processor['processor Hz'].mode()"
      ]
    },
    {
      "cell_type": "code",
      "execution_count": 112,
      "metadata": {},
      "outputs": [
        {
          "data": {
            "text/plain": [
              "processor Hz\n",
              " 2.2GHz Processor     144\n",
              " 2GHz Processor       143\n",
              " 2.4GHz Processor     128\n",
              " 3.2GHz Processor      94\n",
              " 2.3GHz Processor      86\n",
              "2.2GHz Processor       61\n",
              " 3GHz Processor        53\n",
              " 2.84GHz Processor     36\n",
              " 2.05GHz Processor     28\n",
              " 2.5GHz Processor      23\n",
              " 1.8GHz Processor      22\n",
              " 2.85GHz Processor     19\n",
              " 3.22GHz Processor     18\n",
              " 1.6GHz Processor      18\n",
              " 3.1GHz Processor      15\n",
              " 2.6GHz Processor      14\n",
              " 2.9GHz Processor      13\n",
              " 1.82GHz Processor     10\n",
              " 2.73GHz Processor      9\n",
              " 2.8GHz Processor       9\n",
              " 3.05GHz Processor      8\n",
              " 1.3GHz Processor       8\n",
              " 2.36GHz Processor      8\n",
              " 2.65GHz Processor      5\n",
              " 2.7GHz Processor       5\n",
              " 1.5GHz Processor       4\n",
              " 1.4GHz Processor       4\n",
              " 1.1GHz Processor       3\n",
              " 2.96GHz Processor      3\n",
              " 2.86GHz Processor      3\n",
              " 3.13GHz Processor      2\n",
              " 2.35GHz Processor      1\n",
              " 2.37GHz Processor      1\n",
              " 1.99GHz Processor      1\n",
              " 1.95GHz Processor      1\n",
              " 2.1GHz Processor       1\n",
              " 1.2GHz Processor       1\n",
              "Name: count, dtype: int64"
            ]
          },
          "execution_count": 112,
          "metadata": {},
          "output_type": "execute_result"
        }
      ],
      "source": [
        "processor['processor Hz'].fillna(\"2.2GHz Processor\",inplace=True)\n",
        "processor['processor Hz'].value_counts()"
      ]
    },
    {
      "cell_type": "code",
      "execution_count": 113,
      "metadata": {},
      "outputs": [],
      "source": [
        "processor['processor Hz'].replace({\"GHz Processor\":\"\"},regex=True,inplace=True)\n",
        "processor['processor Hz']=processor['processor Hz'].str.strip()"
      ]
    },
    {
      "cell_type": "code",
      "execution_count": 114,
      "metadata": {},
      "outputs": [
        {
          "data": {
            "text/plain": [
              "0    2\n",
              "Name: Additional Camera, dtype: object"
            ]
          },
          "execution_count": 114,
          "metadata": {},
          "output_type": "execute_result"
        }
      ],
      "source": [
        "Rear_Camera['Additional Camera'].mode()"
      ]
    },
    {
      "cell_type": "code",
      "execution_count": 115,
      "metadata": {},
      "outputs": [
        {
          "data": {
            "text/plain": [
              "0    50\n",
              "Name: Primary Camera, dtype: object"
            ]
          },
          "execution_count": 115,
          "metadata": {},
          "output_type": "execute_result"
        }
      ],
      "source": [
        "Rear_Camera['Primary Camera'].mode()"
      ]
    },
    {
      "cell_type": "code",
      "execution_count": 116,
      "metadata": {},
      "outputs": [
        {
          "data": {
            "text/plain": [
              "0    2\n",
              "Name: Secondary Camera, dtype: object"
            ]
          },
          "execution_count": 116,
          "metadata": {},
          "output_type": "execute_result"
        }
      ],
      "source": [
        "Rear_Camera['Secondary Camera'].mode()"
      ]
    },
    {
      "cell_type": "code",
      "execution_count": 117,
      "metadata": {},
      "outputs": [],
      "source": [
        "Rear_Camera['Additional Camera'].fillna(2,inplace=True)\n",
        "Rear_Camera['Primary Camera'].fillna(50,inplace=True)\n",
        "Rear_Camera['Secondary Camera'].fillna(2,inplace=True)"
      ]
    },
    {
      "cell_type": "code",
      "execution_count": 118,
      "metadata": {},
      "outputs": [
        {
          "data": {
            "text/plain": [
              "24"
            ]
          },
          "execution_count": 118,
          "metadata": {},
          "output_type": "execute_result"
        }
      ],
      "source": [
        "frontCam[\"Main Camera\"].isnull().sum()"
      ]
    },
    {
      "cell_type": "code",
      "execution_count": 119,
      "metadata": {},
      "outputs": [
        {
          "data": {
            "text/plain": [
              "0    16\n",
              "Name: Main Camera, dtype: object"
            ]
          },
          "execution_count": 119,
          "metadata": {},
          "output_type": "execute_result"
        }
      ],
      "source": [
        "frontCam[\"Main Camera\"].mode()"
      ]
    },
    {
      "cell_type": "code",
      "execution_count": 120,
      "metadata": {},
      "outputs": [],
      "source": [
        "frontCam.drop(columns=\"Additional Camera\",inplace=True)\n",
        "frontCam['Main Camera'].fillna(16,inplace=True)"
      ]
    },
    {
      "cell_type": "code",
      "execution_count": 121,
      "metadata": {},
      "outputs": [],
      "source": [
        "# concating newly created column to df and removing older columns\n",
        "df=pd.concat([df,battery],axis=1)\n",
        "df=pd.concat([df,Rear_Camera],axis=1)\n",
        "df=pd.concat([df,frontCam],axis=1)\n",
        "df=pd.concat([df,display],axis=1)\n",
        "df=pd.concat([df,processor],axis=1)\n",
        "df=pd.concat([df,ram],axis=1)"
      ]
    },
    {
      "cell_type": "code",
      "execution_count": 122,
      "metadata": {},
      "outputs": [],
      "source": [
        "df.drop(columns=[\"processor\",\"ram\",\"battery\",\"display\",\"camera\"],inplace=True)"
      ]
    },
    {
      "cell_type": "code",
      "execution_count": 123,
      "metadata": {},
      "outputs": [
        {
          "data": {
            "text/plain": [
              "Index(['model', 'price', 'rating', 'card', 'os', 'battery_capacity',\n",
              "       'charging_capacity', 'Primary Camera', 'Secondary Camera',\n",
              "       'Additional Camera', 'Main Camera', 'inches', 'pixel', 'display Hz',\n",
              "       'type', 'core', 'processor Hz', 'RAM', 'inbuilt'],\n",
              "      dtype='object')"
            ]
          },
          "execution_count": 123,
          "metadata": {},
          "output_type": "execute_result"
        }
      ],
      "source": [
        "df.columns"
      ]
    },
    {
      "cell_type": "code",
      "execution_count": 124,
      "metadata": {},
      "outputs": [
        {
          "name": "stdout",
          "output_type": "stream",
          "text": [
            "<class 'pandas.core.frame.DataFrame'>\n",
            "RangeIndex: 1002 entries, 0 to 1001\n",
            "Data columns (total 19 columns):\n",
            " #   Column             Non-Null Count  Dtype  \n",
            "---  ------             --------------  -----  \n",
            " 0   model              1002 non-null   object \n",
            " 1   price              1002 non-null   object \n",
            " 2   rating             1002 non-null   float64\n",
            " 3   card               1002 non-null   object \n",
            " 4   os                 1002 non-null   object \n",
            " 5   battery_capacity   1002 non-null   object \n",
            " 6   charging_capacity  1002 non-null   object \n",
            " 7   Primary Camera     1002 non-null   object \n",
            " 8   Secondary Camera   1002 non-null   object \n",
            " 9   Additional Camera  1002 non-null   object \n",
            " 10  Main Camera        1002 non-null   object \n",
            " 11  inches             1002 non-null   object \n",
            " 12  pixel              1002 non-null   object \n",
            " 13  display Hz         1002 non-null   object \n",
            " 14  type               1002 non-null   object \n",
            " 15  core               1002 non-null   object \n",
            " 16  processor Hz       1002 non-null   object \n",
            " 17  RAM                1002 non-null   object \n",
            " 18  inbuilt            1002 non-null   object \n",
            "dtypes: float64(1), object(18)\n",
            "memory usage: 148.9+ KB\n"
          ]
        }
      ],
      "source": [
        "df.info()"
      ]
    },
    {
      "cell_type": "markdown",
      "metadata": {},
      "source": [
        "## Type Conversion"
      ]
    },
    {
      "cell_type": "code",
      "execution_count": 125,
      "metadata": {},
      "outputs": [],
      "source": [
        "df[\"Additional Camera\"]=df[\"Additional Camera\"].astype(float)\n",
        "df[\"Main Camera\"]=df[\"Main Camera\"].astype(float)\n",
        "df['Primary Camera']=df['Primary Camera'].astype(float)\n",
        "df['RAM']=df['RAM'].astype(int)\n",
        "df['Secondary Camera'].replace(\"\",\"1\",inplace=True)\n",
        "df['Secondary Camera']=df['Secondary Camera'].astype(float)\n",
        "df['battery_capacity']=df['battery_capacity'].astype(int)\n",
        "df['card']=df['card'].astype(int)\n",
        "df['charging_capacity']=df['charging_capacity'].astype(float)\n",
        "df['display Hz']=df['display Hz'].astype(int)\n",
        "df['inbuilt']=df['inbuilt'].astype(int)\n",
        "df['inches']=df['inches'].astype(float)\n",
        "df['price']=df['price'].astype(int)\n",
        "df['processor Hz']=df['processor Hz'].astype(float)"
      ]
    },
    {
      "cell_type": "code",
      "execution_count": 126,
      "metadata": {},
      "outputs": [
        {
          "name": "stdout",
          "output_type": "stream",
          "text": [
            "<class 'pandas.core.frame.DataFrame'>\n",
            "RangeIndex: 1002 entries, 0 to 1001\n",
            "Data columns (total 19 columns):\n",
            " #   Column             Non-Null Count  Dtype  \n",
            "---  ------             --------------  -----  \n",
            " 0   model              1002 non-null   object \n",
            " 1   price              1002 non-null   int32  \n",
            " 2   rating             1002 non-null   float64\n",
            " 3   card               1002 non-null   int32  \n",
            " 4   os                 1002 non-null   object \n",
            " 5   battery_capacity   1002 non-null   int32  \n",
            " 6   charging_capacity  1002 non-null   float64\n",
            " 7   Primary Camera     1002 non-null   float64\n",
            " 8   Secondary Camera   1002 non-null   float64\n",
            " 9   Additional Camera  1002 non-null   float64\n",
            " 10  Main Camera        1002 non-null   float64\n",
            " 11  inches             1002 non-null   float64\n",
            " 12  pixel              1002 non-null   object \n",
            " 13  display Hz         1002 non-null   int32  \n",
            " 14  type               1002 non-null   object \n",
            " 15  core               1002 non-null   object \n",
            " 16  processor Hz       1002 non-null   float64\n",
            " 17  RAM                1002 non-null   int32  \n",
            " 18  inbuilt            1002 non-null   int32  \n",
            "dtypes: float64(8), int32(6), object(5)\n",
            "memory usage: 125.4+ KB\n"
          ]
        }
      ],
      "source": [
        "df.info()"
      ]
    },
    {
      "cell_type": "code",
      "execution_count": 127,
      "metadata": {},
      "outputs": [],
      "source": [
        "df_copy=df.copy()"
      ]
    },
    {
      "cell_type": "code",
      "execution_count": 128,
      "metadata": {},
      "outputs": [],
      "source": [
        "catcols=df.select_dtypes(include='O')"
      ]
    },
    {
      "cell_type": "markdown",
      "metadata": {},
      "source": [
        "# Data Pre-processing complete"
      ]
    },
    {
      "cell_type": "code",
      "execution_count": 129,
      "metadata": {},
      "outputs": [
        {
          "data": {
            "text/html": [
              "<div>\n",
              "<style scoped>\n",
              "    .dataframe tbody tr th:only-of-type {\n",
              "        vertical-align: middle;\n",
              "    }\n",
              "\n",
              "    .dataframe tbody tr th {\n",
              "        vertical-align: top;\n",
              "    }\n",
              "\n",
              "    .dataframe thead th {\n",
              "        text-align: right;\n",
              "    }\n",
              "</style>\n",
              "<table border=\"1\" class=\"dataframe\">\n",
              "  <thead>\n",
              "    <tr style=\"text-align: right;\">\n",
              "      <th></th>\n",
              "      <th>model</th>\n",
              "      <th>price</th>\n",
              "      <th>rating</th>\n",
              "      <th>card</th>\n",
              "      <th>os</th>\n",
              "      <th>battery_capacity</th>\n",
              "      <th>charging_capacity</th>\n",
              "      <th>Primary Camera</th>\n",
              "      <th>Secondary Camera</th>\n",
              "      <th>Additional Camera</th>\n",
              "      <th>Main Camera</th>\n",
              "      <th>inches</th>\n",
              "      <th>pixel</th>\n",
              "      <th>display Hz</th>\n",
              "      <th>type</th>\n",
              "      <th>core</th>\n",
              "      <th>processor Hz</th>\n",
              "      <th>RAM</th>\n",
              "      <th>inbuilt</th>\n",
              "    </tr>\n",
              "  </thead>\n",
              "  <tbody>\n",
              "    <tr>\n",
              "      <th>0</th>\n",
              "      <td>OnePlus</td>\n",
              "      <td>54999</td>\n",
              "      <td>89.0</td>\n",
              "      <td>1</td>\n",
              "      <td>Android</td>\n",
              "      <td>5000</td>\n",
              "      <td>100.0</td>\n",
              "      <td>50.0</td>\n",
              "      <td>48.0</td>\n",
              "      <td>32.0</td>\n",
              "      <td>16.0</td>\n",
              "      <td>6.70</td>\n",
              "      <td>1440x3216</td>\n",
              "      <td>120</td>\n",
              "      <td>Snapdragon</td>\n",
              "      <td>Octa</td>\n",
              "      <td>3.20</td>\n",
              "      <td>12</td>\n",
              "      <td>256</td>\n",
              "    </tr>\n",
              "    <tr>\n",
              "      <th>1</th>\n",
              "      <td>OnePlus</td>\n",
              "      <td>19989</td>\n",
              "      <td>81.0</td>\n",
              "      <td>11000</td>\n",
              "      <td>Android</td>\n",
              "      <td>5000</td>\n",
              "      <td>33.0</td>\n",
              "      <td>64.0</td>\n",
              "      <td>2.0</td>\n",
              "      <td>2.0</td>\n",
              "      <td>16.0</td>\n",
              "      <td>6.59</td>\n",
              "      <td>1080x2412</td>\n",
              "      <td>120</td>\n",
              "      <td>Snapdragon</td>\n",
              "      <td>Octa</td>\n",
              "      <td>2.20</td>\n",
              "      <td>6</td>\n",
              "      <td>128</td>\n",
              "    </tr>\n",
              "    <tr>\n",
              "      <th>2</th>\n",
              "      <td>Samsung</td>\n",
              "      <td>16499</td>\n",
              "      <td>75.0</td>\n",
              "      <td>11000</td>\n",
              "      <td>Android</td>\n",
              "      <td>5000</td>\n",
              "      <td>15.0</td>\n",
              "      <td>50.0</td>\n",
              "      <td>2.0</td>\n",
              "      <td>2.0</td>\n",
              "      <td>13.0</td>\n",
              "      <td>6.60</td>\n",
              "      <td>1080x2408</td>\n",
              "      <td>90</td>\n",
              "      <td>Exynos</td>\n",
              "      <td>Octa</td>\n",
              "      <td>2.40</td>\n",
              "      <td>4</td>\n",
              "      <td>64</td>\n",
              "    </tr>\n",
              "    <tr>\n",
              "      <th>3</th>\n",
              "      <td>Motorola</td>\n",
              "      <td>14999</td>\n",
              "      <td>81.0</td>\n",
              "      <td>11000</td>\n",
              "      <td>Android</td>\n",
              "      <td>5000</td>\n",
              "      <td>33.0</td>\n",
              "      <td>50.0</td>\n",
              "      <td>8.0</td>\n",
              "      <td>2.0</td>\n",
              "      <td>16.0</td>\n",
              "      <td>6.55</td>\n",
              "      <td>1080x2400</td>\n",
              "      <td>120</td>\n",
              "      <td>Snapdragon</td>\n",
              "      <td>Octa</td>\n",
              "      <td>2.20</td>\n",
              "      <td>6</td>\n",
              "      <td>128</td>\n",
              "    </tr>\n",
              "    <tr>\n",
              "      <th>4</th>\n",
              "      <td>Realme</td>\n",
              "      <td>24999</td>\n",
              "      <td>82.0</td>\n",
              "      <td>1</td>\n",
              "      <td>Android</td>\n",
              "      <td>5000</td>\n",
              "      <td>67.0</td>\n",
              "      <td>108.0</td>\n",
              "      <td>8.0</td>\n",
              "      <td>2.0</td>\n",
              "      <td>16.0</td>\n",
              "      <td>6.70</td>\n",
              "      <td>1080x2412</td>\n",
              "      <td>120</td>\n",
              "      <td>Dimensity</td>\n",
              "      <td>Octa</td>\n",
              "      <td>2.60</td>\n",
              "      <td>6</td>\n",
              "      <td>128</td>\n",
              "    </tr>\n",
              "    <tr>\n",
              "      <th>...</th>\n",
              "      <td>...</td>\n",
              "      <td>...</td>\n",
              "      <td>...</td>\n",
              "      <td>...</td>\n",
              "      <td>...</td>\n",
              "      <td>...</td>\n",
              "      <td>...</td>\n",
              "      <td>...</td>\n",
              "      <td>...</td>\n",
              "      <td>...</td>\n",
              "      <td>...</td>\n",
              "      <td>...</td>\n",
              "      <td>...</td>\n",
              "      <td>...</td>\n",
              "      <td>...</td>\n",
              "      <td>...</td>\n",
              "      <td>...</td>\n",
              "      <td>...</td>\n",
              "      <td>...</td>\n",
              "    </tr>\n",
              "    <tr>\n",
              "      <th>997</th>\n",
              "      <td>Motorola</td>\n",
              "      <td>34990</td>\n",
              "      <td>83.0</td>\n",
              "      <td>11000</td>\n",
              "      <td>Android</td>\n",
              "      <td>5000</td>\n",
              "      <td>68.2</td>\n",
              "      <td>64.0</td>\n",
              "      <td>8.0</td>\n",
              "      <td>2.0</td>\n",
              "      <td>16.0</td>\n",
              "      <td>6.67</td>\n",
              "      <td>1080x2460</td>\n",
              "      <td>120</td>\n",
              "      <td>Snapdragon</td>\n",
              "      <td>Octa</td>\n",
              "      <td>3.00</td>\n",
              "      <td>8</td>\n",
              "      <td>128</td>\n",
              "    </tr>\n",
              "    <tr>\n",
              "      <th>998</th>\n",
              "      <td>Honor</td>\n",
              "      <td>14990</td>\n",
              "      <td>75.0</td>\n",
              "      <td>11000</td>\n",
              "      <td>Android</td>\n",
              "      <td>5000</td>\n",
              "      <td>22.5</td>\n",
              "      <td>48.0</td>\n",
              "      <td>2.0</td>\n",
              "      <td>2.0</td>\n",
              "      <td>8.0</td>\n",
              "      <td>6.50</td>\n",
              "      <td>720x1600</td>\n",
              "      <td>120</td>\n",
              "      <td>Snapdragon</td>\n",
              "      <td>Octa</td>\n",
              "      <td>2.20</td>\n",
              "      <td>6</td>\n",
              "      <td>128</td>\n",
              "    </tr>\n",
              "    <tr>\n",
              "      <th>999</th>\n",
              "      <td>POCO</td>\n",
              "      <td>28990</td>\n",
              "      <td>85.0</td>\n",
              "      <td>1</td>\n",
              "      <td>Android</td>\n",
              "      <td>5080</td>\n",
              "      <td>67.0</td>\n",
              "      <td>64.0</td>\n",
              "      <td>8.0</td>\n",
              "      <td>2.0</td>\n",
              "      <td>16.0</td>\n",
              "      <td>6.60</td>\n",
              "      <td>1080x2460</td>\n",
              "      <td>144</td>\n",
              "      <td>Dimensity</td>\n",
              "      <td>Octa</td>\n",
              "      <td>2.85</td>\n",
              "      <td>8</td>\n",
              "      <td>256</td>\n",
              "    </tr>\n",
              "    <tr>\n",
              "      <th>1000</th>\n",
              "      <td>Motorola</td>\n",
              "      <td>19990</td>\n",
              "      <td>80.0</td>\n",
              "      <td>11000</td>\n",
              "      <td>Android</td>\n",
              "      <td>5000</td>\n",
              "      <td>33.0</td>\n",
              "      <td>108.0</td>\n",
              "      <td>8.0</td>\n",
              "      <td>2.0</td>\n",
              "      <td>32.0</td>\n",
              "      <td>6.80</td>\n",
              "      <td>1080x2400</td>\n",
              "      <td>120</td>\n",
              "      <td>Snapdragon</td>\n",
              "      <td>Octa</td>\n",
              "      <td>2.20</td>\n",
              "      <td>6</td>\n",
              "      <td>128</td>\n",
              "    </tr>\n",
              "    <tr>\n",
              "      <th>1001</th>\n",
              "      <td>Samsung</td>\n",
              "      <td>24990</td>\n",
              "      <td>74.0</td>\n",
              "      <td>11000</td>\n",
              "      <td>Android</td>\n",
              "      <td>5000</td>\n",
              "      <td>33.0</td>\n",
              "      <td>64.0</td>\n",
              "      <td>8.0</td>\n",
              "      <td>5.0</td>\n",
              "      <td>32.0</td>\n",
              "      <td>6.50</td>\n",
              "      <td>1080x2400</td>\n",
              "      <td>120</td>\n",
              "      <td>Snapdragon</td>\n",
              "      <td>Octa</td>\n",
              "      <td>2.20</td>\n",
              "      <td>8</td>\n",
              "      <td>128</td>\n",
              "    </tr>\n",
              "  </tbody>\n",
              "</table>\n",
              "<p>1002 rows × 19 columns</p>\n",
              "</div>"
            ],
            "text/plain": [
              "         model  price  rating   card       os  battery_capacity  \\\n",
              "0      OnePlus  54999    89.0      1  Android              5000   \n",
              "1      OnePlus  19989    81.0  11000  Android              5000   \n",
              "2      Samsung  16499    75.0  11000  Android              5000   \n",
              "3     Motorola  14999    81.0  11000  Android              5000   \n",
              "4       Realme  24999    82.0      1  Android              5000   \n",
              "...        ...    ...     ...    ...      ...               ...   \n",
              "997   Motorola  34990    83.0  11000  Android              5000   \n",
              "998      Honor  14990    75.0  11000  Android              5000   \n",
              "999       POCO  28990    85.0      1  Android              5080   \n",
              "1000  Motorola  19990    80.0  11000  Android              5000   \n",
              "1001   Samsung  24990    74.0  11000  Android              5000   \n",
              "\n",
              "      charging_capacity  Primary Camera  Secondary Camera  Additional Camera  \\\n",
              "0                 100.0            50.0              48.0               32.0   \n",
              "1                  33.0            64.0               2.0                2.0   \n",
              "2                  15.0            50.0               2.0                2.0   \n",
              "3                  33.0            50.0               8.0                2.0   \n",
              "4                  67.0           108.0               8.0                2.0   \n",
              "...                 ...             ...               ...                ...   \n",
              "997                68.2            64.0               8.0                2.0   \n",
              "998                22.5            48.0               2.0                2.0   \n",
              "999                67.0            64.0               8.0                2.0   \n",
              "1000               33.0           108.0               8.0                2.0   \n",
              "1001               33.0            64.0               8.0                5.0   \n",
              "\n",
              "      Main Camera  inches      pixel  display Hz        type  core  \\\n",
              "0            16.0    6.70  1440x3216         120  Snapdragon  Octa   \n",
              "1            16.0    6.59  1080x2412         120  Snapdragon  Octa   \n",
              "2            13.0    6.60  1080x2408          90      Exynos  Octa   \n",
              "3            16.0    6.55  1080x2400         120  Snapdragon  Octa   \n",
              "4            16.0    6.70  1080x2412         120   Dimensity  Octa   \n",
              "...           ...     ...        ...         ...         ...   ...   \n",
              "997          16.0    6.67  1080x2460         120  Snapdragon  Octa   \n",
              "998           8.0    6.50   720x1600         120  Snapdragon  Octa   \n",
              "999          16.0    6.60  1080x2460         144   Dimensity  Octa   \n",
              "1000         32.0    6.80  1080x2400         120  Snapdragon  Octa   \n",
              "1001         32.0    6.50  1080x2400         120  Snapdragon  Octa   \n",
              "\n",
              "      processor Hz  RAM  inbuilt  \n",
              "0             3.20   12      256  \n",
              "1             2.20    6      128  \n",
              "2             2.40    4       64  \n",
              "3             2.20    6      128  \n",
              "4             2.60    6      128  \n",
              "...            ...  ...      ...  \n",
              "997           3.00    8      128  \n",
              "998           2.20    6      128  \n",
              "999           2.85    8      256  \n",
              "1000          2.20    6      128  \n",
              "1001          2.20    8      128  \n",
              "\n",
              "[1002 rows x 19 columns]"
            ]
          },
          "execution_count": 129,
          "metadata": {},
          "output_type": "execute_result"
        }
      ],
      "source": [
        "df"
      ]
    }
  ],
  "metadata": {
    "colab": {
      "provenance": []
    },
    "kernelspec": {
      "display_name": "Python 3",
      "language": "python",
      "name": "python3"
    },
    "language_info": {
      "codemirror_mode": {
        "name": "ipython",
        "version": 3
      },
      "file_extension": ".py",
      "mimetype": "text/x-python",
      "name": "python",
      "nbconvert_exporter": "python",
      "pygments_lexer": "ipython3",
      "version": "3.10.5"
    }
  },
  "nbformat": 4,
  "nbformat_minor": 0
}
